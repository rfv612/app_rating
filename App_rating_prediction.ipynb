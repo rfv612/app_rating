{
 "cells": [
  {
   "cell_type": "code",
   "execution_count": 1,
   "metadata": {},
   "outputs": [
    {
     "data": {
      "text/html": [
       "<div>\n",
       "<style scoped>\n",
       "    .dataframe tbody tr th:only-of-type {\n",
       "        vertical-align: middle;\n",
       "    }\n",
       "\n",
       "    .dataframe tbody tr th {\n",
       "        vertical-align: top;\n",
       "    }\n",
       "\n",
       "    .dataframe thead th {\n",
       "        text-align: right;\n",
       "    }\n",
       "</style>\n",
       "<table border=\"1\" class=\"dataframe\">\n",
       "  <thead>\n",
       "    <tr style=\"text-align: right;\">\n",
       "      <th></th>\n",
       "      <th>URL</th>\n",
       "      <th>ID</th>\n",
       "      <th>Name</th>\n",
       "      <th>Subtitle</th>\n",
       "      <th>Icon URL</th>\n",
       "      <th>Average User Rating</th>\n",
       "      <th>User Rating Count</th>\n",
       "      <th>Price</th>\n",
       "      <th>In-app Purchases</th>\n",
       "      <th>Description</th>\n",
       "      <th>Developer</th>\n",
       "      <th>Age Rating</th>\n",
       "      <th>Languages</th>\n",
       "      <th>Size</th>\n",
       "      <th>Primary Genre</th>\n",
       "      <th>Genres</th>\n",
       "      <th>Original Release Date</th>\n",
       "      <th>Current Version Release Date</th>\n",
       "    </tr>\n",
       "  </thead>\n",
       "  <tbody>\n",
       "    <tr>\n",
       "      <th>0</th>\n",
       "      <td>https://apps.apple.com/us/app/sudoku/id284921427</td>\n",
       "      <td>284921427</td>\n",
       "      <td>Sudoku</td>\n",
       "      <td>NaN</td>\n",
       "      <td>https://is2-ssl.mzstatic.com/image/thumb/Purpl...</td>\n",
       "      <td>4.0</td>\n",
       "      <td>3553.0</td>\n",
       "      <td>2.99</td>\n",
       "      <td>NaN</td>\n",
       "      <td>Join over 21,000,000 of our fans and download ...</td>\n",
       "      <td>Mighty Mighty Good Games</td>\n",
       "      <td>4+</td>\n",
       "      <td>DA, NL, EN, FI, FR, DE, IT, JA, KO, NB, PL, PT...</td>\n",
       "      <td>15853568.0</td>\n",
       "      <td>Games</td>\n",
       "      <td>Games, Strategy, Puzzle</td>\n",
       "      <td>11/07/2008</td>\n",
       "      <td>30/05/2017</td>\n",
       "    </tr>\n",
       "    <tr>\n",
       "      <th>1</th>\n",
       "      <td>https://apps.apple.com/us/app/reversi/id284926400</td>\n",
       "      <td>284926400</td>\n",
       "      <td>Reversi</td>\n",
       "      <td>NaN</td>\n",
       "      <td>https://is4-ssl.mzstatic.com/image/thumb/Purpl...</td>\n",
       "      <td>3.5</td>\n",
       "      <td>284.0</td>\n",
       "      <td>1.99</td>\n",
       "      <td>NaN</td>\n",
       "      <td>The classic game of Reversi, also known as Oth...</td>\n",
       "      <td>Kiss The Machine</td>\n",
       "      <td>4+</td>\n",
       "      <td>EN</td>\n",
       "      <td>12328960.0</td>\n",
       "      <td>Games</td>\n",
       "      <td>Games, Strategy, Board</td>\n",
       "      <td>11/07/2008</td>\n",
       "      <td>17/05/2018</td>\n",
       "    </tr>\n",
       "    <tr>\n",
       "      <th>2</th>\n",
       "      <td>https://apps.apple.com/us/app/morocco/id284946595</td>\n",
       "      <td>284946595</td>\n",
       "      <td>Morocco</td>\n",
       "      <td>NaN</td>\n",
       "      <td>https://is5-ssl.mzstatic.com/image/thumb/Purpl...</td>\n",
       "      <td>3.0</td>\n",
       "      <td>8376.0</td>\n",
       "      <td>0.00</td>\n",
       "      <td>NaN</td>\n",
       "      <td>Play the classic strategy game Othello (also k...</td>\n",
       "      <td>Bayou Games</td>\n",
       "      <td>4+</td>\n",
       "      <td>EN</td>\n",
       "      <td>674816.0</td>\n",
       "      <td>Games</td>\n",
       "      <td>Games, Board, Strategy</td>\n",
       "      <td>11/07/2008</td>\n",
       "      <td>5/09/2017</td>\n",
       "    </tr>\n",
       "    <tr>\n",
       "      <th>3</th>\n",
       "      <td>https://apps.apple.com/us/app/sudoku-free/id28...</td>\n",
       "      <td>285755462</td>\n",
       "      <td>Sudoku (Free)</td>\n",
       "      <td>NaN</td>\n",
       "      <td>https://is3-ssl.mzstatic.com/image/thumb/Purpl...</td>\n",
       "      <td>3.5</td>\n",
       "      <td>190394.0</td>\n",
       "      <td>0.00</td>\n",
       "      <td>NaN</td>\n",
       "      <td>Top 100 free app for over a year.\\nRated \"Best...</td>\n",
       "      <td>Mighty Mighty Good Games</td>\n",
       "      <td>4+</td>\n",
       "      <td>DA, NL, EN, FI, FR, DE, IT, JA, KO, NB, PL, PT...</td>\n",
       "      <td>21552128.0</td>\n",
       "      <td>Games</td>\n",
       "      <td>Games, Strategy, Puzzle</td>\n",
       "      <td>23/07/2008</td>\n",
       "      <td>30/05/2017</td>\n",
       "    </tr>\n",
       "    <tr>\n",
       "      <th>4</th>\n",
       "      <td>https://apps.apple.com/us/app/senet-deluxe/id2...</td>\n",
       "      <td>285831220</td>\n",
       "      <td>Senet Deluxe</td>\n",
       "      <td>NaN</td>\n",
       "      <td>https://is1-ssl.mzstatic.com/image/thumb/Purpl...</td>\n",
       "      <td>3.5</td>\n",
       "      <td>28.0</td>\n",
       "      <td>2.99</td>\n",
       "      <td>NaN</td>\n",
       "      <td>\"Senet Deluxe - The Ancient Game of Life and A...</td>\n",
       "      <td>RoGame Software</td>\n",
       "      <td>4+</td>\n",
       "      <td>DA, NL, EN, FR, DE, EL, IT, JA, KO, NO, PT, RU...</td>\n",
       "      <td>34689024.0</td>\n",
       "      <td>Games</td>\n",
       "      <td>Games, Strategy, Board, Education</td>\n",
       "      <td>18/07/2008</td>\n",
       "      <td>22/07/2018</td>\n",
       "    </tr>\n",
       "  </tbody>\n",
       "</table>\n",
       "</div>"
      ],
      "text/plain": [
       "                                                 URL         ID  \\\n",
       "0   https://apps.apple.com/us/app/sudoku/id284921427  284921427   \n",
       "1  https://apps.apple.com/us/app/reversi/id284926400  284926400   \n",
       "2  https://apps.apple.com/us/app/morocco/id284946595  284946595   \n",
       "3  https://apps.apple.com/us/app/sudoku-free/id28...  285755462   \n",
       "4  https://apps.apple.com/us/app/senet-deluxe/id2...  285831220   \n",
       "\n",
       "            Name Subtitle                                           Icon URL  \\\n",
       "0         Sudoku      NaN  https://is2-ssl.mzstatic.com/image/thumb/Purpl...   \n",
       "1        Reversi      NaN  https://is4-ssl.mzstatic.com/image/thumb/Purpl...   \n",
       "2        Morocco      NaN  https://is5-ssl.mzstatic.com/image/thumb/Purpl...   \n",
       "3  Sudoku (Free)      NaN  https://is3-ssl.mzstatic.com/image/thumb/Purpl...   \n",
       "4   Senet Deluxe      NaN  https://is1-ssl.mzstatic.com/image/thumb/Purpl...   \n",
       "\n",
       "   Average User Rating  User Rating Count  Price In-app Purchases  \\\n",
       "0                  4.0             3553.0   2.99              NaN   \n",
       "1                  3.5              284.0   1.99              NaN   \n",
       "2                  3.0             8376.0   0.00              NaN   \n",
       "3                  3.5           190394.0   0.00              NaN   \n",
       "4                  3.5               28.0   2.99              NaN   \n",
       "\n",
       "                                         Description  \\\n",
       "0  Join over 21,000,000 of our fans and download ...   \n",
       "1  The classic game of Reversi, also known as Oth...   \n",
       "2  Play the classic strategy game Othello (also k...   \n",
       "3  Top 100 free app for over a year.\\nRated \"Best...   \n",
       "4  \"Senet Deluxe - The Ancient Game of Life and A...   \n",
       "\n",
       "                  Developer Age Rating  \\\n",
       "0  Mighty Mighty Good Games         4+   \n",
       "1          Kiss The Machine         4+   \n",
       "2               Bayou Games         4+   \n",
       "3  Mighty Mighty Good Games         4+   \n",
       "4           RoGame Software         4+   \n",
       "\n",
       "                                           Languages        Size  \\\n",
       "0  DA, NL, EN, FI, FR, DE, IT, JA, KO, NB, PL, PT...  15853568.0   \n",
       "1                                                 EN  12328960.0   \n",
       "2                                                 EN    674816.0   \n",
       "3  DA, NL, EN, FI, FR, DE, IT, JA, KO, NB, PL, PT...  21552128.0   \n",
       "4  DA, NL, EN, FR, DE, EL, IT, JA, KO, NO, PT, RU...  34689024.0   \n",
       "\n",
       "  Primary Genre                             Genres Original Release Date  \\\n",
       "0         Games            Games, Strategy, Puzzle            11/07/2008   \n",
       "1         Games             Games, Strategy, Board            11/07/2008   \n",
       "2         Games             Games, Board, Strategy            11/07/2008   \n",
       "3         Games            Games, Strategy, Puzzle            23/07/2008   \n",
       "4         Games  Games, Strategy, Board, Education            18/07/2008   \n",
       "\n",
       "  Current Version Release Date  \n",
       "0                   30/05/2017  \n",
       "1                   17/05/2018  \n",
       "2                    5/09/2017  \n",
       "3                   30/05/2017  \n",
       "4                   22/07/2018  "
      ]
     },
     "execution_count": 1,
     "metadata": {},
     "output_type": "execute_result"
    }
   ],
   "source": [
    "import pandas as pd\n",
    "import numpy as np\n",
    "df=pd.read_csv('appstore_games (2).csv')\n",
    "df.head()"
   ]
  },
  {
   "cell_type": "code",
   "execution_count": 2,
   "metadata": {},
   "outputs": [
    {
     "data": {
      "text/html": [
       "<div>\n",
       "<style scoped>\n",
       "    .dataframe tbody tr th:only-of-type {\n",
       "        vertical-align: middle;\n",
       "    }\n",
       "\n",
       "    .dataframe tbody tr th {\n",
       "        vertical-align: top;\n",
       "    }\n",
       "\n",
       "    .dataframe thead th {\n",
       "        text-align: right;\n",
       "    }\n",
       "</style>\n",
       "<table border=\"1\" class=\"dataframe\">\n",
       "  <thead>\n",
       "    <tr style=\"text-align: right;\">\n",
       "      <th></th>\n",
       "      <th>Average User Rating</th>\n",
       "      <th>User Rating Count</th>\n",
       "      <th>Price</th>\n",
       "      <th>In-app Purchases</th>\n",
       "      <th>Developer</th>\n",
       "      <th>Age Rating</th>\n",
       "      <th>Languages</th>\n",
       "      <th>Size</th>\n",
       "      <th>Genres</th>\n",
       "      <th>Original Release Date</th>\n",
       "      <th>Current Version Release Date</th>\n",
       "    </tr>\n",
       "  </thead>\n",
       "  <tbody>\n",
       "    <tr>\n",
       "      <th>0</th>\n",
       "      <td>4.0</td>\n",
       "      <td>3553.0</td>\n",
       "      <td>2.99</td>\n",
       "      <td>NaN</td>\n",
       "      <td>Mighty Mighty Good Games</td>\n",
       "      <td>4+</td>\n",
       "      <td>DA, NL, EN, FI, FR, DE, IT, JA, KO, NB, PL, PT...</td>\n",
       "      <td>15853568.0</td>\n",
       "      <td>Games, Strategy, Puzzle</td>\n",
       "      <td>11/07/2008</td>\n",
       "      <td>30/05/2017</td>\n",
       "    </tr>\n",
       "    <tr>\n",
       "      <th>1</th>\n",
       "      <td>3.5</td>\n",
       "      <td>284.0</td>\n",
       "      <td>1.99</td>\n",
       "      <td>NaN</td>\n",
       "      <td>Kiss The Machine</td>\n",
       "      <td>4+</td>\n",
       "      <td>EN</td>\n",
       "      <td>12328960.0</td>\n",
       "      <td>Games, Strategy, Board</td>\n",
       "      <td>11/07/2008</td>\n",
       "      <td>17/05/2018</td>\n",
       "    </tr>\n",
       "    <tr>\n",
       "      <th>2</th>\n",
       "      <td>3.0</td>\n",
       "      <td>8376.0</td>\n",
       "      <td>0.00</td>\n",
       "      <td>NaN</td>\n",
       "      <td>Bayou Games</td>\n",
       "      <td>4+</td>\n",
       "      <td>EN</td>\n",
       "      <td>674816.0</td>\n",
       "      <td>Games, Board, Strategy</td>\n",
       "      <td>11/07/2008</td>\n",
       "      <td>5/09/2017</td>\n",
       "    </tr>\n",
       "    <tr>\n",
       "      <th>3</th>\n",
       "      <td>3.5</td>\n",
       "      <td>190394.0</td>\n",
       "      <td>0.00</td>\n",
       "      <td>NaN</td>\n",
       "      <td>Mighty Mighty Good Games</td>\n",
       "      <td>4+</td>\n",
       "      <td>DA, NL, EN, FI, FR, DE, IT, JA, KO, NB, PL, PT...</td>\n",
       "      <td>21552128.0</td>\n",
       "      <td>Games, Strategy, Puzzle</td>\n",
       "      <td>23/07/2008</td>\n",
       "      <td>30/05/2017</td>\n",
       "    </tr>\n",
       "    <tr>\n",
       "      <th>4</th>\n",
       "      <td>3.5</td>\n",
       "      <td>28.0</td>\n",
       "      <td>2.99</td>\n",
       "      <td>NaN</td>\n",
       "      <td>RoGame Software</td>\n",
       "      <td>4+</td>\n",
       "      <td>DA, NL, EN, FR, DE, EL, IT, JA, KO, NO, PT, RU...</td>\n",
       "      <td>34689024.0</td>\n",
       "      <td>Games, Strategy, Board, Education</td>\n",
       "      <td>18/07/2008</td>\n",
       "      <td>22/07/2018</td>\n",
       "    </tr>\n",
       "  </tbody>\n",
       "</table>\n",
       "</div>"
      ],
      "text/plain": [
       "   Average User Rating  User Rating Count  Price In-app Purchases  \\\n",
       "0                  4.0             3553.0   2.99              NaN   \n",
       "1                  3.5              284.0   1.99              NaN   \n",
       "2                  3.0             8376.0   0.00              NaN   \n",
       "3                  3.5           190394.0   0.00              NaN   \n",
       "4                  3.5               28.0   2.99              NaN   \n",
       "\n",
       "                  Developer Age Rating  \\\n",
       "0  Mighty Mighty Good Games         4+   \n",
       "1          Kiss The Machine         4+   \n",
       "2               Bayou Games         4+   \n",
       "3  Mighty Mighty Good Games         4+   \n",
       "4           RoGame Software         4+   \n",
       "\n",
       "                                           Languages        Size  \\\n",
       "0  DA, NL, EN, FI, FR, DE, IT, JA, KO, NB, PL, PT...  15853568.0   \n",
       "1                                                 EN  12328960.0   \n",
       "2                                                 EN    674816.0   \n",
       "3  DA, NL, EN, FI, FR, DE, IT, JA, KO, NB, PL, PT...  21552128.0   \n",
       "4  DA, NL, EN, FR, DE, EL, IT, JA, KO, NO, PT, RU...  34689024.0   \n",
       "\n",
       "                              Genres Original Release Date  \\\n",
       "0            Games, Strategy, Puzzle            11/07/2008   \n",
       "1             Games, Strategy, Board            11/07/2008   \n",
       "2             Games, Board, Strategy            11/07/2008   \n",
       "3            Games, Strategy, Puzzle            23/07/2008   \n",
       "4  Games, Strategy, Board, Education            18/07/2008   \n",
       "\n",
       "  Current Version Release Date  \n",
       "0                   30/05/2017  \n",
       "1                   17/05/2018  \n",
       "2                    5/09/2017  \n",
       "3                   30/05/2017  \n",
       "4                   22/07/2018  "
      ]
     },
     "execution_count": 2,
     "metadata": {},
     "output_type": "execute_result"
    }
   ],
   "source": [
    "#Removing unwanted columns\n",
    "df.drop(['URL','Subtitle','Icon URL','Name','Description','ID','Primary Genre'],axis=1,inplace=True)\n",
    "df.head()"
   ]
  },
  {
   "cell_type": "code",
   "execution_count": 3,
   "metadata": {},
   "outputs": [
    {
     "data": {
      "text/plain": [
       "Index(['Average User Rating', 'User Rating Count', 'Price', 'In-app Purchases',\n",
       "       'Developer', 'Age Rating', 'Languages', 'Size', 'Genres',\n",
       "       'Original Release Date', 'Current Version Release Date'],\n",
       "      dtype='object')"
      ]
     },
     "execution_count": 3,
     "metadata": {},
     "output_type": "execute_result"
    }
   ],
   "source": [
    "df.columns"
   ]
  },
  {
   "cell_type": "code",
   "execution_count": 4,
   "metadata": {},
   "outputs": [
    {
     "data": {
      "text/plain": [
       "Index(['Average_User_Rating', 'User_Rating_Count', 'Price', 'In-app_Purchases',\n",
       "       'Developer', 'Age_Rating', 'Languages', 'Size', 'Genres',\n",
       "       'Original_Release_Date', 'Current_Version_Release_Date'],\n",
       "      dtype='object')"
      ]
     },
     "execution_count": 4,
     "metadata": {},
     "output_type": "execute_result"
    }
   ],
   "source": [
    "df.columns=df.columns.str.replace(' ','_')\n",
    "df.columns"
   ]
  },
  {
   "cell_type": "code",
   "execution_count": 5,
   "metadata": {},
   "outputs": [
    {
     "data": {
      "text/plain": [
       "Index(['Average_User_Rating', 'User_Rating_Count', 'Price', 'In_app_Purchases',\n",
       "       'Developer', 'Age_Rating', 'Languages', 'Size', 'Genres',\n",
       "       'Original_Release_Date', 'Current_Version_Release_Date'],\n",
       "      dtype='object')"
      ]
     },
     "execution_count": 5,
     "metadata": {},
     "output_type": "execute_result"
    }
   ],
   "source": [
    "#also replacing the - in In-app purchases\n",
    "df.columns=df.columns.str.replace('-','_')\n",
    "df.columns"
   ]
  },
  {
   "cell_type": "code",
   "execution_count": 6,
   "metadata": {},
   "outputs": [
    {
     "data": {
      "text/plain": [
       "Average_User_Rating             9446\n",
       "User_Rating_Count               9446\n",
       "Price                             24\n",
       "In_app_Purchases                9324\n",
       "Developer                          0\n",
       "Age_Rating                         0\n",
       "Languages                         60\n",
       "Size                               1\n",
       "Genres                             0\n",
       "Original_Release_Date              0\n",
       "Current_Version_Release_Date       0\n",
       "dtype: int64"
      ]
     },
     "execution_count": 6,
     "metadata": {},
     "output_type": "execute_result"
    }
   ],
   "source": [
    "df.isnull().sum()"
   ]
  },
  {
   "cell_type": "code",
   "execution_count": 7,
   "metadata": {},
   "outputs": [],
   "source": [
    "#Null values for In app purchases column indicate no in app transactions hence we put 0\n",
    "df['In_app_Purchases'].fillna(value=0,inplace=True)"
   ]
  },
  {
   "cell_type": "code",
   "execution_count": 8,
   "metadata": {},
   "outputs": [
    {
     "data": {
      "text/plain": [
       "Average_User_Rating             9446\n",
       "User_Rating_Count               9446\n",
       "Price                             24\n",
       "In_app_Purchases                   0\n",
       "Developer                          0\n",
       "Age_Rating                         0\n",
       "Languages                         60\n",
       "Size                               1\n",
       "Genres                             0\n",
       "Original_Release_Date              0\n",
       "Current_Version_Release_Date       0\n",
       "dtype: int64"
      ]
     },
     "execution_count": 8,
     "metadata": {},
     "output_type": "execute_result"
    }
   ],
   "source": [
    "df.isnull().sum()"
   ]
  },
  {
   "cell_type": "code",
   "execution_count": 9,
   "metadata": {},
   "outputs": [
    {
     "name": "stdout",
     "output_type": "stream",
     "text": [
      "187077\n"
     ]
    },
    {
     "data": {
      "text/plain": [
       "(17007, 11)"
      ]
     },
     "execution_count": 9,
     "metadata": {},
     "output_type": "execute_result"
    }
   ],
   "source": [
    "print(df.size)\n",
    "df.shape"
   ]
  },
  {
   "cell_type": "code",
   "execution_count": 10,
   "metadata": {},
   "outputs": [
    {
     "data": {
      "text/plain": [
       "(17007, 11)"
      ]
     },
     "execution_count": 10,
     "metadata": {},
     "output_type": "execute_result"
    }
   ],
   "source": [
    "df.dropna(how='all').shape"
   ]
  },
  {
   "cell_type": "code",
   "execution_count": 11,
   "metadata": {},
   "outputs": [
    {
     "data": {
      "text/html": [
       "<div>\n",
       "<style scoped>\n",
       "    .dataframe tbody tr th:only-of-type {\n",
       "        vertical-align: middle;\n",
       "    }\n",
       "\n",
       "    .dataframe tbody tr th {\n",
       "        vertical-align: top;\n",
       "    }\n",
       "\n",
       "    .dataframe thead th {\n",
       "        text-align: right;\n",
       "    }\n",
       "</style>\n",
       "<table border=\"1\" class=\"dataframe\">\n",
       "  <thead>\n",
       "    <tr style=\"text-align: right;\">\n",
       "      <th></th>\n",
       "      <th>Average_User_Rating</th>\n",
       "      <th>User_Rating_Count</th>\n",
       "      <th>Price</th>\n",
       "      <th>In_app_Purchases</th>\n",
       "      <th>Developer</th>\n",
       "      <th>Age_Rating</th>\n",
       "      <th>Languages</th>\n",
       "      <th>Size</th>\n",
       "      <th>Genres</th>\n",
       "      <th>Original_Release_Date</th>\n",
       "      <th>Current_Version_Release_Date</th>\n",
       "      <th>Time</th>\n",
       "    </tr>\n",
       "  </thead>\n",
       "  <tbody>\n",
       "    <tr>\n",
       "      <th>0</th>\n",
       "      <td>4.0</td>\n",
       "      <td>3553.0</td>\n",
       "      <td>2.99</td>\n",
       "      <td>0</td>\n",
       "      <td>Mighty Mighty Good Games</td>\n",
       "      <td>4+</td>\n",
       "      <td>DA, NL, EN, FI, FR, DE, IT, JA, KO, NB, PL, PT...</td>\n",
       "      <td>15853568.0</td>\n",
       "      <td>Games, Strategy, Puzzle</td>\n",
       "      <td>2008-11-07</td>\n",
       "      <td>2017-05-30</td>\n",
       "      <td>3126 days</td>\n",
       "    </tr>\n",
       "    <tr>\n",
       "      <th>1</th>\n",
       "      <td>3.5</td>\n",
       "      <td>284.0</td>\n",
       "      <td>1.99</td>\n",
       "      <td>0</td>\n",
       "      <td>Kiss The Machine</td>\n",
       "      <td>4+</td>\n",
       "      <td>EN</td>\n",
       "      <td>12328960.0</td>\n",
       "      <td>Games, Strategy, Board</td>\n",
       "      <td>2008-11-07</td>\n",
       "      <td>2018-05-17</td>\n",
       "      <td>3478 days</td>\n",
       "    </tr>\n",
       "    <tr>\n",
       "      <th>2</th>\n",
       "      <td>3.0</td>\n",
       "      <td>8376.0</td>\n",
       "      <td>0.00</td>\n",
       "      <td>0</td>\n",
       "      <td>Bayou Games</td>\n",
       "      <td>4+</td>\n",
       "      <td>EN</td>\n",
       "      <td>674816.0</td>\n",
       "      <td>Games, Board, Strategy</td>\n",
       "      <td>2008-11-07</td>\n",
       "      <td>2017-05-09</td>\n",
       "      <td>3105 days</td>\n",
       "    </tr>\n",
       "    <tr>\n",
       "      <th>3</th>\n",
       "      <td>3.5</td>\n",
       "      <td>190394.0</td>\n",
       "      <td>0.00</td>\n",
       "      <td>0</td>\n",
       "      <td>Mighty Mighty Good Games</td>\n",
       "      <td>4+</td>\n",
       "      <td>DA, NL, EN, FI, FR, DE, IT, JA, KO, NB, PL, PT...</td>\n",
       "      <td>21552128.0</td>\n",
       "      <td>Games, Strategy, Puzzle</td>\n",
       "      <td>2008-07-23</td>\n",
       "      <td>2017-05-30</td>\n",
       "      <td>3233 days</td>\n",
       "    </tr>\n",
       "    <tr>\n",
       "      <th>4</th>\n",
       "      <td>3.5</td>\n",
       "      <td>28.0</td>\n",
       "      <td>2.99</td>\n",
       "      <td>0</td>\n",
       "      <td>RoGame Software</td>\n",
       "      <td>4+</td>\n",
       "      <td>DA, NL, EN, FR, DE, EL, IT, JA, KO, NO, PT, RU...</td>\n",
       "      <td>34689024.0</td>\n",
       "      <td>Games, Strategy, Board, Education</td>\n",
       "      <td>2008-07-18</td>\n",
       "      <td>2018-07-22</td>\n",
       "      <td>3656 days</td>\n",
       "    </tr>\n",
       "  </tbody>\n",
       "</table>\n",
       "</div>"
      ],
      "text/plain": [
       "   Average_User_Rating  User_Rating_Count  Price In_app_Purchases  \\\n",
       "0                  4.0             3553.0   2.99                0   \n",
       "1                  3.5              284.0   1.99                0   \n",
       "2                  3.0             8376.0   0.00                0   \n",
       "3                  3.5           190394.0   0.00                0   \n",
       "4                  3.5               28.0   2.99                0   \n",
       "\n",
       "                  Developer Age_Rating  \\\n",
       "0  Mighty Mighty Good Games         4+   \n",
       "1          Kiss The Machine         4+   \n",
       "2               Bayou Games         4+   \n",
       "3  Mighty Mighty Good Games         4+   \n",
       "4           RoGame Software         4+   \n",
       "\n",
       "                                           Languages        Size  \\\n",
       "0  DA, NL, EN, FI, FR, DE, IT, JA, KO, NB, PL, PT...  15853568.0   \n",
       "1                                                 EN  12328960.0   \n",
       "2                                                 EN    674816.0   \n",
       "3  DA, NL, EN, FI, FR, DE, IT, JA, KO, NB, PL, PT...  21552128.0   \n",
       "4  DA, NL, EN, FR, DE, EL, IT, JA, KO, NO, PT, RU...  34689024.0   \n",
       "\n",
       "                              Genres Original_Release_Date  \\\n",
       "0            Games, Strategy, Puzzle            2008-11-07   \n",
       "1             Games, Strategy, Board            2008-11-07   \n",
       "2             Games, Board, Strategy            2008-11-07   \n",
       "3            Games, Strategy, Puzzle            2008-07-23   \n",
       "4  Games, Strategy, Board, Education            2008-07-18   \n",
       "\n",
       "  Current_Version_Release_Date      Time  \n",
       "0                   2017-05-30 3126 days  \n",
       "1                   2018-05-17 3478 days  \n",
       "2                   2017-05-09 3105 days  \n",
       "3                   2017-05-30 3233 days  \n",
       "4                   2018-07-22 3656 days  "
      ]
     },
     "execution_count": 11,
     "metadata": {},
     "output_type": "execute_result"
    }
   ],
   "source": [
    "df['Original_Release_Date']=pd.to_datetime(df.Original_Release_Date)\n",
    "df['Current_Version_Release_Date']=pd.to_datetime(df.Current_Version_Release_Date)\n",
    "df['Time']=df.Current_Version_Release_Date-df.Original_Release_Date\n",
    "df.head()"
   ]
  },
  {
   "cell_type": "code",
   "execution_count": 12,
   "metadata": {},
   "outputs": [
    {
     "name": "stderr",
     "output_type": "stream",
     "text": [
      "<ipython-input-12-35672116f055>:2: FutureWarning: Index.__and__ operating as a set operation is deprecated, in the future this will be a logical operation matching Series.__and__.  Use index.intersection(other) instead\n",
      "  rows=(df[df.User_Rating_Count<200].index & df[df.Time<datetime.timedelta(days=180)].index)\n"
     ]
    }
   ],
   "source": [
    "import datetime\n",
    "rows=(df[df.User_Rating_Count<200].index & df[df.Time<datetime.timedelta(days=180)].index)\n",
    "df.drop(rows,inplace=True)"
   ]
  },
  {
   "cell_type": "code",
   "execution_count": 13,
   "metadata": {},
   "outputs": [
    {
     "data": {
      "text/plain": [
       "(14489, 12)"
      ]
     },
     "execution_count": 13,
     "metadata": {},
     "output_type": "execute_result"
    }
   ],
   "source": [
    "df.shape"
   ]
  },
  {
   "cell_type": "code",
   "execution_count": 14,
   "metadata": {},
   "outputs": [
    {
     "data": {
      "text/plain": [
       "Average_User_Rating             9446\n",
       "User_Rating_Count               9446\n",
       "Price                             24\n",
       "In_app_Purchases                   0\n",
       "Developer                          0\n",
       "Age_Rating                         0\n",
       "Languages                         50\n",
       "Size                               1\n",
       "Genres                             0\n",
       "Original_Release_Date              0\n",
       "Current_Version_Release_Date       0\n",
       "Time                               0\n",
       "dtype: int64"
      ]
     },
     "execution_count": 14,
     "metadata": {},
     "output_type": "execute_result"
    }
   ],
   "source": [
    "df.isnull().sum()"
   ]
  },
  {
   "cell_type": "code",
   "execution_count": 15,
   "metadata": {},
   "outputs": [],
   "source": [
    "df.dropna(subset=['Average_User_Rating','User_Rating_Count'],how='any',inplace=True)"
   ]
  },
  {
   "cell_type": "code",
   "execution_count": 16,
   "metadata": {},
   "outputs": [
    {
     "data": {
      "text/plain": [
       "Average_User_Rating              0\n",
       "User_Rating_Count                0\n",
       "Price                            0\n",
       "In_app_Purchases                 0\n",
       "Developer                        0\n",
       "Age_Rating                       0\n",
       "Languages                       14\n",
       "Size                             0\n",
       "Genres                           0\n",
       "Original_Release_Date            0\n",
       "Current_Version_Release_Date     0\n",
       "Time                             0\n",
       "dtype: int64"
      ]
     },
     "execution_count": 16,
     "metadata": {},
     "output_type": "execute_result"
    }
   ],
   "source": [
    "df.isnull().sum()"
   ]
  },
  {
   "cell_type": "code",
   "execution_count": 17,
   "metadata": {},
   "outputs": [
    {
     "data": {
      "text/plain": [
       "(5043, 12)"
      ]
     },
     "execution_count": 17,
     "metadata": {},
     "output_type": "execute_result"
    }
   ],
   "source": [
    "df.shape"
   ]
  },
  {
   "cell_type": "code",
   "execution_count": 18,
   "metadata": {},
   "outputs": [],
   "source": [
    "#Removing rows where no language is specified\n",
    "df.dropna(subset=['Languages'],how='all',inplace=True)"
   ]
  },
  {
   "cell_type": "code",
   "execution_count": 19,
   "metadata": {},
   "outputs": [
    {
     "data": {
      "text/plain": [
       "Average_User_Rating             0\n",
       "User_Rating_Count               0\n",
       "Price                           0\n",
       "In_app_Purchases                0\n",
       "Developer                       0\n",
       "Age_Rating                      0\n",
       "Languages                       0\n",
       "Size                            0\n",
       "Genres                          0\n",
       "Original_Release_Date           0\n",
       "Current_Version_Release_Date    0\n",
       "Time                            0\n",
       "dtype: int64"
      ]
     },
     "execution_count": 19,
     "metadata": {},
     "output_type": "execute_result"
    }
   ],
   "source": [
    "#All null values are removed and unwanted columns are also removed\n",
    "df.isnull().sum()"
   ]
  },
  {
   "cell_type": "code",
   "execution_count": 20,
   "metadata": {},
   "outputs": [
    {
     "data": {
      "text/plain": [
       "(5029, 12)"
      ]
     },
     "execution_count": 20,
     "metadata": {},
     "output_type": "execute_result"
    }
   ],
   "source": [
    "df.shape"
   ]
  },
  {
   "cell_type": "code",
   "execution_count": 21,
   "metadata": {},
   "outputs": [
    {
     "data": {
      "text/html": [
       "<div>\n",
       "<style scoped>\n",
       "    .dataframe tbody tr th:only-of-type {\n",
       "        vertical-align: middle;\n",
       "    }\n",
       "\n",
       "    .dataframe tbody tr th {\n",
       "        vertical-align: top;\n",
       "    }\n",
       "\n",
       "    .dataframe thead th {\n",
       "        text-align: right;\n",
       "    }\n",
       "</style>\n",
       "<table border=\"1\" class=\"dataframe\">\n",
       "  <thead>\n",
       "    <tr style=\"text-align: right;\">\n",
       "      <th></th>\n",
       "      <th>Average_User_Rating</th>\n",
       "      <th>User_Rating_Count</th>\n",
       "      <th>Price</th>\n",
       "      <th>In_app_Purchases</th>\n",
       "      <th>Developer</th>\n",
       "      <th>Age_Rating</th>\n",
       "      <th>Languages</th>\n",
       "      <th>Size</th>\n",
       "      <th>Genres</th>\n",
       "      <th>Original_Release_Date</th>\n",
       "      <th>Current_Version_Release_Date</th>\n",
       "      <th>Time</th>\n",
       "    </tr>\n",
       "  </thead>\n",
       "  <tbody>\n",
       "    <tr>\n",
       "      <th>0</th>\n",
       "      <td>4.0</td>\n",
       "      <td>3553.0</td>\n",
       "      <td>2.99</td>\n",
       "      <td>0</td>\n",
       "      <td>Mighty Mighty Good Games</td>\n",
       "      <td>4+</td>\n",
       "      <td>DA, NL, EN, FI, FR, DE, IT, JA, KO, NB, PL, PT...</td>\n",
       "      <td>15853568.0</td>\n",
       "      <td>Games, Strategy, Puzzle</td>\n",
       "      <td>2008-11-07</td>\n",
       "      <td>2017-05-30</td>\n",
       "      <td>3126 days</td>\n",
       "    </tr>\n",
       "    <tr>\n",
       "      <th>1</th>\n",
       "      <td>3.5</td>\n",
       "      <td>284.0</td>\n",
       "      <td>1.99</td>\n",
       "      <td>0</td>\n",
       "      <td>Kiss The Machine</td>\n",
       "      <td>4+</td>\n",
       "      <td>EN</td>\n",
       "      <td>12328960.0</td>\n",
       "      <td>Games, Strategy, Board</td>\n",
       "      <td>2008-11-07</td>\n",
       "      <td>2018-05-17</td>\n",
       "      <td>3478 days</td>\n",
       "    </tr>\n",
       "    <tr>\n",
       "      <th>2</th>\n",
       "      <td>3.0</td>\n",
       "      <td>8376.0</td>\n",
       "      <td>0.00</td>\n",
       "      <td>0</td>\n",
       "      <td>Bayou Games</td>\n",
       "      <td>4+</td>\n",
       "      <td>EN</td>\n",
       "      <td>674816.0</td>\n",
       "      <td>Games, Board, Strategy</td>\n",
       "      <td>2008-11-07</td>\n",
       "      <td>2017-05-09</td>\n",
       "      <td>3105 days</td>\n",
       "    </tr>\n",
       "    <tr>\n",
       "      <th>3</th>\n",
       "      <td>3.5</td>\n",
       "      <td>190394.0</td>\n",
       "      <td>0.00</td>\n",
       "      <td>0</td>\n",
       "      <td>Mighty Mighty Good Games</td>\n",
       "      <td>4+</td>\n",
       "      <td>DA, NL, EN, FI, FR, DE, IT, JA, KO, NB, PL, PT...</td>\n",
       "      <td>21552128.0</td>\n",
       "      <td>Games, Strategy, Puzzle</td>\n",
       "      <td>2008-07-23</td>\n",
       "      <td>2017-05-30</td>\n",
       "      <td>3233 days</td>\n",
       "    </tr>\n",
       "    <tr>\n",
       "      <th>4</th>\n",
       "      <td>3.5</td>\n",
       "      <td>28.0</td>\n",
       "      <td>2.99</td>\n",
       "      <td>0</td>\n",
       "      <td>RoGame Software</td>\n",
       "      <td>4+</td>\n",
       "      <td>DA, NL, EN, FR, DE, EL, IT, JA, KO, NO, PT, RU...</td>\n",
       "      <td>34689024.0</td>\n",
       "      <td>Games, Strategy, Board, Education</td>\n",
       "      <td>2008-07-18</td>\n",
       "      <td>2018-07-22</td>\n",
       "      <td>3656 days</td>\n",
       "    </tr>\n",
       "  </tbody>\n",
       "</table>\n",
       "</div>"
      ],
      "text/plain": [
       "   Average_User_Rating  User_Rating_Count  Price In_app_Purchases  \\\n",
       "0                  4.0             3553.0   2.99                0   \n",
       "1                  3.5              284.0   1.99                0   \n",
       "2                  3.0             8376.0   0.00                0   \n",
       "3                  3.5           190394.0   0.00                0   \n",
       "4                  3.5               28.0   2.99                0   \n",
       "\n",
       "                  Developer Age_Rating  \\\n",
       "0  Mighty Mighty Good Games         4+   \n",
       "1          Kiss The Machine         4+   \n",
       "2               Bayou Games         4+   \n",
       "3  Mighty Mighty Good Games         4+   \n",
       "4           RoGame Software         4+   \n",
       "\n",
       "                                           Languages        Size  \\\n",
       "0  DA, NL, EN, FI, FR, DE, IT, JA, KO, NB, PL, PT...  15853568.0   \n",
       "1                                                 EN  12328960.0   \n",
       "2                                                 EN    674816.0   \n",
       "3  DA, NL, EN, FI, FR, DE, IT, JA, KO, NB, PL, PT...  21552128.0   \n",
       "4  DA, NL, EN, FR, DE, EL, IT, JA, KO, NO, PT, RU...  34689024.0   \n",
       "\n",
       "                              Genres Original_Release_Date  \\\n",
       "0            Games, Strategy, Puzzle            2008-11-07   \n",
       "1             Games, Strategy, Board            2008-11-07   \n",
       "2             Games, Board, Strategy            2008-11-07   \n",
       "3            Games, Strategy, Puzzle            2008-07-23   \n",
       "4  Games, Strategy, Board, Education            2008-07-18   \n",
       "\n",
       "  Current_Version_Release_Date      Time  \n",
       "0                   2017-05-30 3126 days  \n",
       "1                   2018-05-17 3478 days  \n",
       "2                   2017-05-09 3105 days  \n",
       "3                   2017-05-30 3233 days  \n",
       "4                   2018-07-22 3656 days  "
      ]
     },
     "execution_count": 21,
     "metadata": {},
     "output_type": "execute_result"
    }
   ],
   "source": [
    "df.head()"
   ]
  },
  {
   "cell_type": "code",
   "execution_count": 22,
   "metadata": {},
   "outputs": [
    {
     "name": "stdout",
     "output_type": "stream",
     "text": [
      "49\n"
     ]
    },
    {
     "data": {
      "text/html": [
       "<div>\n",
       "<style scoped>\n",
       "    .dataframe tbody tr th:only-of-type {\n",
       "        vertical-align: middle;\n",
       "    }\n",
       "\n",
       "    .dataframe tbody tr th {\n",
       "        vertical-align: top;\n",
       "    }\n",
       "\n",
       "    .dataframe thead th {\n",
       "        text-align: right;\n",
       "    }\n",
       "</style>\n",
       "<table border=\"1\" class=\"dataframe\">\n",
       "  <thead>\n",
       "    <tr style=\"text-align: right;\">\n",
       "      <th></th>\n",
       "      <th>Average_User_Rating</th>\n",
       "      <th>User_Rating_Count</th>\n",
       "      <th>Price</th>\n",
       "      <th>In_app_Purchases</th>\n",
       "      <th>Developer</th>\n",
       "      <th>Age_Rating</th>\n",
       "      <th>Languages</th>\n",
       "      <th>Size</th>\n",
       "      <th>Genres</th>\n",
       "      <th>Original_Release_Date</th>\n",
       "      <th>Current_Version_Release_Date</th>\n",
       "      <th>Time</th>\n",
       "    </tr>\n",
       "  </thead>\n",
       "  <tbody>\n",
       "    <tr>\n",
       "      <th>15</th>\n",
       "      <td>3.0</td>\n",
       "      <td>112.0</td>\n",
       "      <td>0.00</td>\n",
       "      <td>0.99</td>\n",
       "      <td>SOLILAB</td>\n",
       "      <td>4+</td>\n",
       "      <td>EN, FR, DE, IT, ES</td>\n",
       "      <td>122826752.0</td>\n",
       "      <td>Games, Strategy, Board</td>\n",
       "      <td>2008-08-31</td>\n",
       "      <td>2015-06-04</td>\n",
       "      <td>2468 days</td>\n",
       "    </tr>\n",
       "    <tr>\n",
       "      <th>16</th>\n",
       "      <td>3.0</td>\n",
       "      <td>112.0</td>\n",
       "      <td>0.00</td>\n",
       "      <td>0.99</td>\n",
       "      <td>SOLILAB</td>\n",
       "      <td>4+</td>\n",
       "      <td>EN, FR, DE, IT, ES</td>\n",
       "      <td>122826752.0</td>\n",
       "      <td>Games, Strategy, Board</td>\n",
       "      <td>2008-08-31</td>\n",
       "      <td>2015-06-04</td>\n",
       "      <td>2468 days</td>\n",
       "    </tr>\n",
       "    <tr>\n",
       "      <th>123</th>\n",
       "      <td>4.5</td>\n",
       "      <td>36581.0</td>\n",
       "      <td>0.00</td>\n",
       "      <td>0</td>\n",
       "      <td>Vintolo Ltd</td>\n",
       "      <td>4+</td>\n",
       "      <td>EN</td>\n",
       "      <td>69393408.0</td>\n",
       "      <td>Games, Entertainment, Board, Strategy</td>\n",
       "      <td>2009-04-07</td>\n",
       "      <td>2019-06-14</td>\n",
       "      <td>3720 days</td>\n",
       "    </tr>\n",
       "    <tr>\n",
       "      <th>124</th>\n",
       "      <td>4.5</td>\n",
       "      <td>36581.0</td>\n",
       "      <td>0.00</td>\n",
       "      <td>0</td>\n",
       "      <td>Vintolo Ltd</td>\n",
       "      <td>4+</td>\n",
       "      <td>EN</td>\n",
       "      <td>69393408.0</td>\n",
       "      <td>Games, Entertainment, Board, Strategy</td>\n",
       "      <td>2009-04-07</td>\n",
       "      <td>2019-06-14</td>\n",
       "      <td>3720 days</td>\n",
       "    </tr>\n",
       "    <tr>\n",
       "      <th>234</th>\n",
       "      <td>3.0</td>\n",
       "      <td>1229.0</td>\n",
       "      <td>0.00</td>\n",
       "      <td>37.99, 199.99, 0.99</td>\n",
       "      <td>Poulet Maison Ptd Ltd</td>\n",
       "      <td>12+</td>\n",
       "      <td>ZH, EN, FR, DE, IT, JA, ES</td>\n",
       "      <td>10781853.0</td>\n",
       "      <td>Medical, Adventure, Strategy, Games</td>\n",
       "      <td>2010-01-13</td>\n",
       "      <td>2010-02-27</td>\n",
       "      <td>45 days</td>\n",
       "    </tr>\n",
       "    <tr>\n",
       "      <th>...</th>\n",
       "      <td>...</td>\n",
       "      <td>...</td>\n",
       "      <td>...</td>\n",
       "      <td>...</td>\n",
       "      <td>...</td>\n",
       "      <td>...</td>\n",
       "      <td>...</td>\n",
       "      <td>...</td>\n",
       "      <td>...</td>\n",
       "      <td>...</td>\n",
       "      <td>...</td>\n",
       "      <td>...</td>\n",
       "    </tr>\n",
       "    <tr>\n",
       "      <th>13842</th>\n",
       "      <td>4.5</td>\n",
       "      <td>71752.0</td>\n",
       "      <td>0.00</td>\n",
       "      <td>9.99, 1.99, 7.99, 4.99, 1.99, 19.99, 49.99, 1....</td>\n",
       "      <td>Yangcheng Liu</td>\n",
       "      <td>12+</td>\n",
       "      <td>EN</td>\n",
       "      <td>219517952.0</td>\n",
       "      <td>Games, Strategy, Action</td>\n",
       "      <td>2018-10-05</td>\n",
       "      <td>2019-04-07</td>\n",
       "      <td>184 days</td>\n",
       "    </tr>\n",
       "    <tr>\n",
       "      <th>14040</th>\n",
       "      <td>4.0</td>\n",
       "      <td>2799.0</td>\n",
       "      <td>0.00</td>\n",
       "      <td>0</td>\n",
       "      <td>Silver Elm Systems LLC</td>\n",
       "      <td>9+</td>\n",
       "      <td>EN</td>\n",
       "      <td>217275392.0</td>\n",
       "      <td>Games, Strategy, Entertainment, Adventure</td>\n",
       "      <td>2018-05-06</td>\n",
       "      <td>2018-05-06</td>\n",
       "      <td>0 days</td>\n",
       "    </tr>\n",
       "    <tr>\n",
       "      <th>14041</th>\n",
       "      <td>4.0</td>\n",
       "      <td>2799.0</td>\n",
       "      <td>0.00</td>\n",
       "      <td>0</td>\n",
       "      <td>Silver Elm Systems LLC</td>\n",
       "      <td>9+</td>\n",
       "      <td>EN</td>\n",
       "      <td>217275392.0</td>\n",
       "      <td>Games, Strategy, Entertainment, Adventure</td>\n",
       "      <td>2018-05-06</td>\n",
       "      <td>2018-05-06</td>\n",
       "      <td>0 days</td>\n",
       "    </tr>\n",
       "    <tr>\n",
       "      <th>14438</th>\n",
       "      <td>4.5</td>\n",
       "      <td>188.0</td>\n",
       "      <td>1.99</td>\n",
       "      <td>4.99, 0.99, 1.99, 4.99, 0.99, 1.99</td>\n",
       "      <td>Flipline Studios</td>\n",
       "      <td>4+</td>\n",
       "      <td>EN</td>\n",
       "      <td>70050816.0</td>\n",
       "      <td>Games, Strategy, Simulation</td>\n",
       "      <td>2018-02-08</td>\n",
       "      <td>2019-02-02</td>\n",
       "      <td>359 days</td>\n",
       "    </tr>\n",
       "    <tr>\n",
       "      <th>14439</th>\n",
       "      <td>4.5</td>\n",
       "      <td>188.0</td>\n",
       "      <td>1.99</td>\n",
       "      <td>4.99, 0.99, 1.99, 4.99, 0.99, 1.99</td>\n",
       "      <td>Flipline Studios</td>\n",
       "      <td>4+</td>\n",
       "      <td>EN</td>\n",
       "      <td>70050816.0</td>\n",
       "      <td>Games, Strategy, Simulation</td>\n",
       "      <td>2018-02-08</td>\n",
       "      <td>2019-02-02</td>\n",
       "      <td>359 days</td>\n",
       "    </tr>\n",
       "  </tbody>\n",
       "</table>\n",
       "<p>98 rows × 12 columns</p>\n",
       "</div>"
      ],
      "text/plain": [
       "       Average_User_Rating  User_Rating_Count  Price  \\\n",
       "15                     3.0              112.0   0.00   \n",
       "16                     3.0              112.0   0.00   \n",
       "123                    4.5            36581.0   0.00   \n",
       "124                    4.5            36581.0   0.00   \n",
       "234                    3.0             1229.0   0.00   \n",
       "...                    ...                ...    ...   \n",
       "13842                  4.5            71752.0   0.00   \n",
       "14040                  4.0             2799.0   0.00   \n",
       "14041                  4.0             2799.0   0.00   \n",
       "14438                  4.5              188.0   1.99   \n",
       "14439                  4.5              188.0   1.99   \n",
       "\n",
       "                                        In_app_Purchases  \\\n",
       "15                                                  0.99   \n",
       "16                                                  0.99   \n",
       "123                                                    0   \n",
       "124                                                    0   \n",
       "234                                  37.99, 199.99, 0.99   \n",
       "...                                                  ...   \n",
       "13842  9.99, 1.99, 7.99, 4.99, 1.99, 19.99, 49.99, 1....   \n",
       "14040                                                  0   \n",
       "14041                                                  0   \n",
       "14438                 4.99, 0.99, 1.99, 4.99, 0.99, 1.99   \n",
       "14439                 4.99, 0.99, 1.99, 4.99, 0.99, 1.99   \n",
       "\n",
       "                    Developer Age_Rating                   Languages  \\\n",
       "15                    SOLILAB         4+          EN, FR, DE, IT, ES   \n",
       "16                    SOLILAB         4+          EN, FR, DE, IT, ES   \n",
       "123               Vintolo Ltd         4+                          EN   \n",
       "124               Vintolo Ltd         4+                          EN   \n",
       "234     Poulet Maison Ptd Ltd        12+  ZH, EN, FR, DE, IT, JA, ES   \n",
       "...                       ...        ...                         ...   \n",
       "13842           Yangcheng Liu        12+                          EN   \n",
       "14040  Silver Elm Systems LLC         9+                          EN   \n",
       "14041  Silver Elm Systems LLC         9+                          EN   \n",
       "14438        Flipline Studios         4+                          EN   \n",
       "14439        Flipline Studios         4+                          EN   \n",
       "\n",
       "              Size                                     Genres  \\\n",
       "15     122826752.0                     Games, Strategy, Board   \n",
       "16     122826752.0                     Games, Strategy, Board   \n",
       "123     69393408.0      Games, Entertainment, Board, Strategy   \n",
       "124     69393408.0      Games, Entertainment, Board, Strategy   \n",
       "234     10781853.0        Medical, Adventure, Strategy, Games   \n",
       "...            ...                                        ...   \n",
       "13842  219517952.0                    Games, Strategy, Action   \n",
       "14040  217275392.0  Games, Strategy, Entertainment, Adventure   \n",
       "14041  217275392.0  Games, Strategy, Entertainment, Adventure   \n",
       "14438   70050816.0                Games, Strategy, Simulation   \n",
       "14439   70050816.0                Games, Strategy, Simulation   \n",
       "\n",
       "      Original_Release_Date Current_Version_Release_Date      Time  \n",
       "15               2008-08-31                   2015-06-04 2468 days  \n",
       "16               2008-08-31                   2015-06-04 2468 days  \n",
       "123              2009-04-07                   2019-06-14 3720 days  \n",
       "124              2009-04-07                   2019-06-14 3720 days  \n",
       "234              2010-01-13                   2010-02-27   45 days  \n",
       "...                     ...                          ...       ...  \n",
       "13842            2018-10-05                   2019-04-07  184 days  \n",
       "14040            2018-05-06                   2018-05-06    0 days  \n",
       "14041            2018-05-06                   2018-05-06    0 days  \n",
       "14438            2018-02-08                   2019-02-02  359 days  \n",
       "14439            2018-02-08                   2019-02-02  359 days  \n",
       "\n",
       "[98 rows x 12 columns]"
      ]
     },
     "execution_count": 22,
     "metadata": {},
     "output_type": "execute_result"
    }
   ],
   "source": [
    "print(df.duplicated().sum())\n",
    "df.loc[df.duplicated(keep=False),:]"
   ]
  },
  {
   "cell_type": "code",
   "execution_count": 23,
   "metadata": {},
   "outputs": [],
   "source": [
    "df.drop_duplicates(keep='first',inplace=True)"
   ]
  },
  {
   "cell_type": "code",
   "execution_count": 24,
   "metadata": {},
   "outputs": [
    {
     "data": {
      "text/html": [
       "<div>\n",
       "<style scoped>\n",
       "    .dataframe tbody tr th:only-of-type {\n",
       "        vertical-align: middle;\n",
       "    }\n",
       "\n",
       "    .dataframe tbody tr th {\n",
       "        vertical-align: top;\n",
       "    }\n",
       "\n",
       "    .dataframe thead th {\n",
       "        text-align: right;\n",
       "    }\n",
       "</style>\n",
       "<table border=\"1\" class=\"dataframe\">\n",
       "  <thead>\n",
       "    <tr style=\"text-align: right;\">\n",
       "      <th></th>\n",
       "      <th>Average_User_Rating</th>\n",
       "      <th>User_Rating_Count</th>\n",
       "      <th>Price</th>\n",
       "      <th>In_app_Purchases</th>\n",
       "      <th>Developer</th>\n",
       "      <th>Age_Rating</th>\n",
       "      <th>Languages</th>\n",
       "      <th>Size</th>\n",
       "      <th>Genres</th>\n",
       "      <th>Original_Release_Date</th>\n",
       "      <th>Current_Version_Release_Date</th>\n",
       "      <th>Time</th>\n",
       "    </tr>\n",
       "  </thead>\n",
       "  <tbody>\n",
       "  </tbody>\n",
       "</table>\n",
       "</div>"
      ],
      "text/plain": [
       "Empty DataFrame\n",
       "Columns: [Average_User_Rating, User_Rating_Count, Price, In_app_Purchases, Developer, Age_Rating, Languages, Size, Genres, Original_Release_Date, Current_Version_Release_Date, Time]\n",
       "Index: []"
      ]
     },
     "execution_count": 24,
     "metadata": {},
     "output_type": "execute_result"
    }
   ],
   "source": [
    "df.loc[df.duplicated(keep=False),:]"
   ]
  },
  {
   "cell_type": "code",
   "execution_count": 25,
   "metadata": {},
   "outputs": [
    {
     "data": {
      "text/plain": [
       "0"
      ]
     },
     "execution_count": 25,
     "metadata": {},
     "output_type": "execute_result"
    }
   ],
   "source": [
    "#Removed all duplicates\n",
    "df.duplicated().sum()"
   ]
  },
  {
   "cell_type": "code",
   "execution_count": 26,
   "metadata": {},
   "outputs": [],
   "source": [
    "from pandas import DataFrame\n",
    "Apps=((df['Developer'].value_counts()))\n",
    "index=[]\n",
    "for s in range(0,len(Apps)):\n",
    "    index.append(s)\n",
    "value=[]\n",
    "names=[]\n",
    "for z in Apps.index:\n",
    "    names.append(z)\n",
    "for z in Apps:\n",
    "    value.append(z)\n",
    "\n",
    "Apps=pd.DataFrame({'Name':names,'Value':value},columns=['Name','Value'],index=index)"
   ]
  },
  {
   "cell_type": "code",
   "execution_count": 27,
   "metadata": {},
   "outputs": [
    {
     "name": "stderr",
     "output_type": "stream",
     "text": [
      "E:\\Python\\lib\\site-packages\\seaborn\\_decorators.py:36: FutureWarning: Pass the following variables as keyword args: x, y. From version 0.12, the only valid positional argument will be `data`, and passing other arguments without an explicit keyword will result in an error or misinterpretation.\n",
      "  warnings.warn(\n"
     ]
    },
    {
     "data": {
      "image/png": "[encoded data removed]",
      "text/plain": [
       "<Figure size 1152x720 with 1 Axes>"
      ]
     },
     "metadata": {},
     "output_type": "display_data"
    }
   ],
   "source": [
    "import matplotlib.pyplot as plt\n",
    "%matplotlib inline\n",
    "import seaborn as sns\n",
    "sns.set_style('darkgrid')\n",
    "plt.subplots(figsize=(16,10))\n",
    "x=Apps['Name'].head(10)\n",
    "x=list(x)\n",
    "y=Apps['Value'].head(10)\n",
    "y=list(y)\n",
    "graph= sns.barplot(x,y,palette='Accent')\n",
    "graph.set_xticklabels(graph.get_xticklabels(), rotation=50)\n",
    "graph.set(xlabel='Developers',ylabel='Number of Games')\n",
    "for p in graph.patches:\n",
    "             graph.annotate(\"%.f\" % p.get_height(), (p.get_x() + p.get_width() / 2.,p.get_height()),\n",
    "                             ha='center', va='center', fontsize=16, color='black', xytext=(0,10),textcoords='offset points')"
   ]
  },
  {
   "cell_type": "code",
   "execution_count": 28,
   "metadata": {},
   "outputs": [],
   "source": [
    "#These developers have released apps which got atleast 4.0 rating\n",
    "Good_Rated_Apps=(df[(df.Average_User_Rating>=4.0)].Developer.value_counts())\n",
    "index=[]\n",
    "for s in range(0,len(Good_Rated_Apps)):\n",
    "    index.append(s)\n",
    "value=[]\n",
    "names=[]\n",
    "for z in Good_Rated_Apps.index:\n",
    "    names.append(z)\n",
    "for z in Good_Rated_Apps:\n",
    "    value.append(z)\n",
    "Good_Rated_Apps=pd.DataFrame({'Name':names,'Value':value},columns=['Name','Value'],index=index)"
   ]
  },
  {
   "cell_type": "code",
   "execution_count": 29,
   "metadata": {},
   "outputs": [
    {
     "name": "stderr",
     "output_type": "stream",
     "text": [
      "E:\\Python\\lib\\site-packages\\seaborn\\_decorators.py:36: FutureWarning: Pass the following variables as keyword args: x, y. From version 0.12, the only valid positional argument will be `data`, and passing other arguments without an explicit keyword will result in an error or misinterpretation.\n",
      "  warnings.warn(\n"
     ]
    },
    {
     "data": {
      "image/png": "[encoded data removed]",
      "text/plain": [
       "<Figure size 1152x720 with 1 Axes>"
      ]
     },
     "metadata": {},
     "output_type": "display_data"
    }
   ],
   "source": [
    "import matplotlib.pyplot as plt\n",
    "%matplotlib inline\n",
    "import seaborn as sns\n",
    "sns.set_style('darkgrid')\n",
    "plt.subplots(figsize=(16,10))\n",
    "x=Good_Rated_Apps['Name'].head(10)\n",
    "x=list(x)\n",
    "y=Good_Rated_Apps['Value'].head(10)\n",
    "y=list(y)\n",
    "graph= sns.barplot(x,y,palette='Accent')\n",
    "graph.set_xticklabels(graph.get_xticklabels(), rotation=50)\n",
    "graph.set(xlabel='Developers',ylabel='Number of Games')\n",
    "for p in graph.patches:\n",
    "             graph.annotate(\"%.f\" % p.get_height(), (p.get_x() + p.get_width() / 2.,p.get_height()),\n",
    "                             ha='center', va='center', fontsize=16, color='black', xytext=(0,10),textcoords='offset points')"
   ]
  },
  {
   "cell_type": "code",
   "execution_count": 30,
   "metadata": {},
   "outputs": [],
   "source": [
    "Bad_Rated_Apps=(df[(df.Average_User_Rating<4.0)].Developer.value_counts())\n",
    "index=[]\n",
    "for s in range(0,len(Bad_Rated_Apps)):\n",
    "    index.append(s)\n",
    "value=[]\n",
    "names=[]\n",
    "for z in Bad_Rated_Apps.index:\n",
    "    names.append(z)\n",
    "for z in Bad_Rated_Apps:\n",
    "    value.append(z)\n",
    "Bad_Rated_Apps=pd.DataFrame({'Name':names,'Value':value},columns=['Name','Value'],index=index)"
   ]
  },
  {
   "cell_type": "code",
   "execution_count": 31,
   "metadata": {},
   "outputs": [
    {
     "name": "stderr",
     "output_type": "stream",
     "text": [
      "E:\\Python\\lib\\site-packages\\seaborn\\_decorators.py:36: FutureWarning: Pass the following variables as keyword args: x, y. From version 0.12, the only valid positional argument will be `data`, and passing other arguments without an explicit keyword will result in an error or misinterpretation.\n",
      "  warnings.warn(\n"
     ]
    },
    {
     "data": {
      "image/png": "[encoded data removed]",
      "text/plain": [
       "<Figure size 1152x720 with 1 Axes>"
      ]
     },
     "metadata": {},
     "output_type": "display_data"
    }
   ],
   "source": [
    "import matplotlib.pyplot as plt\n",
    "%matplotlib inline\n",
    "import seaborn as sns\n",
    "sns.set_style('darkgrid')\n",
    "plt.subplots(figsize=(16,10))\n",
    "x=Bad_Rated_Apps['Name'].head(10)\n",
    "x=list(x)\n",
    "y=Bad_Rated_Apps['Value'].head(10)\n",
    "y=list(y)\n",
    "graph= sns.barplot(x,y,palette='Accent')\n",
    "graph.set_xticklabels(graph.get_xticklabels(), rotation=50)\n",
    "graph.set(xlabel='Developers',ylabel='Number of Games')\n",
    "for p in graph.patches:\n",
    "             graph.annotate(\"%.f\" % p.get_height(), (p.get_x() + p.get_width() / 2.,p.get_height()),\n",
    "                             ha='center', va='center', fontsize=16, color='black', xytext=(0,10),textcoords='offset points')"
   ]
  },
  {
   "cell_type": "code",
   "execution_count": 32,
   "metadata": {},
   "outputs": [],
   "source": [
    "#With this we can find out the total numbers of apps released by a developer, the good rated apps released by the developer, \n",
    "#and bad rated apps released by the developer"
   ]
  },
  {
   "cell_type": "code",
   "execution_count": 33,
   "metadata": {},
   "outputs": [],
   "source": [
    "df['Genres'] = df['Genres'].str.replace(',', '').str.replace('Games', '').str.replace('Entertainment', '').str.replace('Strategy', '')"
   ]
  },
  {
   "cell_type": "code",
   "execution_count": 34,
   "metadata": {},
   "outputs": [],
   "source": [
    "df['Genres']=df['Genres'].str.strip()"
   ]
  },
  {
   "cell_type": "code",
   "execution_count": 35,
   "metadata": {
    "scrolled": true
   },
   "outputs": [
    {
     "data": {
      "text/plain": [
       "Simulation                   771\n",
       "Puzzle                       754\n",
       "Action                       654\n",
       "Role Playing                 541\n",
       "Board                        525\n",
       "                            ... \n",
       "Utilities   Casual             1\n",
       "Family Travel                  1\n",
       "Card  Education                1\n",
       "Social Networking Action       1\n",
       "Social Networking  Casual      1\n",
       "Name: Genres, Length: 268, dtype: int64"
      ]
     },
     "execution_count": 35,
     "metadata": {},
     "output_type": "execute_result"
    }
   ],
   "source": [
    "df.Genres.value_counts()"
   ]
  },
  {
   "cell_type": "code",
   "execution_count": 36,
   "metadata": {},
   "outputs": [],
   "source": [
    "Unwanted_Genres=df[~df.Genres.str.contains('Puzzle') & ~df.Genres.str.contains('Simulation') & ~df.Genres.str.contains('Action')\n",
    "& ~df.Genres.str.contains('Role') & ~df.Genres.str.contains('Board') & ~df.Genres.str.contains('Card') \n",
    "& ~df.Genres.str.contains('Adventure') & ~df.Genres.str.contains('Family') \n",
    "& ~df.Genres.str.contains('Education') & ~df.Genres.str.contains('Racing') & ~df.Genres.str.contains('Sports')].index"
   ]
  },
  {
   "cell_type": "code",
   "execution_count": 37,
   "metadata": {},
   "outputs": [],
   "source": [
    "df.drop(Unwanted_Genres,inplace=True)"
   ]
  },
  {
   "cell_type": "code",
   "execution_count": 38,
   "metadata": {},
   "outputs": [],
   "source": [
    "df.loc[df['Genres'].str.contains('Puzzle'),'Genres']='Puzzle'\n",
    "df.loc[df['Genres'].str.contains('Simulation'),'Genres']='Simulation'\n",
    "df.loc[df['Genres'].str.contains('Action'),'Genres']='Action'\n",
    "df.loc[df['Genres'].str.contains('Role'),'Genres']='Adventure'\n",
    "df.loc[df['Genres'].str.contains('Board'),'Genres']='Puzzle'\n",
    "df.loc[df['Genres'].str.contains('Adventure'),'Genres']='Adventure'\n",
    "df.loc[df['Genres'].str.contains('Racing'),'Genres']='Sports'\n",
    "df.loc[df['Genres'].str.contains('Card'),'Genres']='Family'\n",
    "df.loc[df['Genres'].str.contains('Sports'),'Genres']='Sports'\n",
    "df.loc[df['Genres'].str.contains('Family'),'Genres']='Family'\n",
    "df.loc[df['Genres'].str.contains('Education'),'Genres']='Family'"
   ]
  },
  {
   "cell_type": "code",
   "execution_count": 39,
   "metadata": {},
   "outputs": [
    {
     "data": {
      "text/html": [
       "<div>\n",
       "<style scoped>\n",
       "    .dataframe tbody tr th:only-of-type {\n",
       "        vertical-align: middle;\n",
       "    }\n",
       "\n",
       "    .dataframe tbody tr th {\n",
       "        vertical-align: top;\n",
       "    }\n",
       "\n",
       "    .dataframe thead th {\n",
       "        text-align: right;\n",
       "    }\n",
       "</style>\n",
       "<table border=\"1\" class=\"dataframe\">\n",
       "  <thead>\n",
       "    <tr style=\"text-align: right;\">\n",
       "      <th></th>\n",
       "      <th>Average_User_Rating</th>\n",
       "      <th>User_Rating_Count</th>\n",
       "      <th>Price</th>\n",
       "      <th>In_app_Purchases</th>\n",
       "      <th>Developer</th>\n",
       "      <th>Age_Rating</th>\n",
       "      <th>Languages</th>\n",
       "      <th>Size</th>\n",
       "      <th>Genres</th>\n",
       "      <th>Original_Release_Date</th>\n",
       "      <th>Current_Version_Release_Date</th>\n",
       "      <th>Time</th>\n",
       "    </tr>\n",
       "  </thead>\n",
       "  <tbody>\n",
       "    <tr>\n",
       "      <th>0</th>\n",
       "      <td>4.0</td>\n",
       "      <td>3553.0</td>\n",
       "      <td>2.99</td>\n",
       "      <td>0</td>\n",
       "      <td>Mighty Mighty Good Games</td>\n",
       "      <td>4+</td>\n",
       "      <td>DA, NL, EN, FI, FR, DE, IT, JA, KO, NB, PL, PT...</td>\n",
       "      <td>15853568.0</td>\n",
       "      <td>Puzzle</td>\n",
       "      <td>2008-11-07</td>\n",
       "      <td>2017-05-30</td>\n",
       "      <td>3126 days</td>\n",
       "    </tr>\n",
       "    <tr>\n",
       "      <th>1</th>\n",
       "      <td>3.5</td>\n",
       "      <td>284.0</td>\n",
       "      <td>1.99</td>\n",
       "      <td>0</td>\n",
       "      <td>Kiss The Machine</td>\n",
       "      <td>4+</td>\n",
       "      <td>EN</td>\n",
       "      <td>12328960.0</td>\n",
       "      <td>Puzzle</td>\n",
       "      <td>2008-11-07</td>\n",
       "      <td>2018-05-17</td>\n",
       "      <td>3478 days</td>\n",
       "    </tr>\n",
       "    <tr>\n",
       "      <th>2</th>\n",
       "      <td>3.0</td>\n",
       "      <td>8376.0</td>\n",
       "      <td>0.00</td>\n",
       "      <td>0</td>\n",
       "      <td>Bayou Games</td>\n",
       "      <td>4+</td>\n",
       "      <td>EN</td>\n",
       "      <td>674816.0</td>\n",
       "      <td>Puzzle</td>\n",
       "      <td>2008-11-07</td>\n",
       "      <td>2017-05-09</td>\n",
       "      <td>3105 days</td>\n",
       "    </tr>\n",
       "    <tr>\n",
       "      <th>3</th>\n",
       "      <td>3.5</td>\n",
       "      <td>190394.0</td>\n",
       "      <td>0.00</td>\n",
       "      <td>0</td>\n",
       "      <td>Mighty Mighty Good Games</td>\n",
       "      <td>4+</td>\n",
       "      <td>DA, NL, EN, FI, FR, DE, IT, JA, KO, NB, PL, PT...</td>\n",
       "      <td>21552128.0</td>\n",
       "      <td>Puzzle</td>\n",
       "      <td>2008-07-23</td>\n",
       "      <td>2017-05-30</td>\n",
       "      <td>3233 days</td>\n",
       "    </tr>\n",
       "    <tr>\n",
       "      <th>4</th>\n",
       "      <td>3.5</td>\n",
       "      <td>28.0</td>\n",
       "      <td>2.99</td>\n",
       "      <td>0</td>\n",
       "      <td>RoGame Software</td>\n",
       "      <td>4+</td>\n",
       "      <td>DA, NL, EN, FR, DE, EL, IT, JA, KO, NO, PT, RU...</td>\n",
       "      <td>34689024.0</td>\n",
       "      <td>Puzzle</td>\n",
       "      <td>2008-07-18</td>\n",
       "      <td>2018-07-22</td>\n",
       "      <td>3656 days</td>\n",
       "    </tr>\n",
       "  </tbody>\n",
       "</table>\n",
       "</div>"
      ],
      "text/plain": [
       "   Average_User_Rating  User_Rating_Count  Price In_app_Purchases  \\\n",
       "0                  4.0             3553.0   2.99                0   \n",
       "1                  3.5              284.0   1.99                0   \n",
       "2                  3.0             8376.0   0.00                0   \n",
       "3                  3.5           190394.0   0.00                0   \n",
       "4                  3.5               28.0   2.99                0   \n",
       "\n",
       "                  Developer Age_Rating  \\\n",
       "0  Mighty Mighty Good Games         4+   \n",
       "1          Kiss The Machine         4+   \n",
       "2               Bayou Games         4+   \n",
       "3  Mighty Mighty Good Games         4+   \n",
       "4           RoGame Software         4+   \n",
       "\n",
       "                                           Languages        Size  Genres  \\\n",
       "0  DA, NL, EN, FI, FR, DE, IT, JA, KO, NB, PL, PT...  15853568.0  Puzzle   \n",
       "1                                                 EN  12328960.0  Puzzle   \n",
       "2                                                 EN    674816.0  Puzzle   \n",
       "3  DA, NL, EN, FI, FR, DE, IT, JA, KO, NB, PL, PT...  21552128.0  Puzzle   \n",
       "4  DA, NL, EN, FR, DE, EL, IT, JA, KO, NO, PT, RU...  34689024.0  Puzzle   \n",
       "\n",
       "  Original_Release_Date Current_Version_Release_Date      Time  \n",
       "0            2008-11-07                   2017-05-30 3126 days  \n",
       "1            2008-11-07                   2018-05-17 3478 days  \n",
       "2            2008-11-07                   2017-05-09 3105 days  \n",
       "3            2008-07-23                   2017-05-30 3233 days  \n",
       "4            2008-07-18                   2018-07-22 3656 days  "
      ]
     },
     "execution_count": 39,
     "metadata": {},
     "output_type": "execute_result"
    }
   ],
   "source": [
    "df.head()"
   ]
  },
  {
   "cell_type": "code",
   "execution_count": 40,
   "metadata": {},
   "outputs": [
    {
     "name": "stderr",
     "output_type": "stream",
     "text": [
      "E:\\Python\\lib\\site-packages\\seaborn\\_decorators.py:36: FutureWarning: Pass the following variables as keyword args: x, y. From version 0.12, the only valid positional argument will be `data`, and passing other arguments without an explicit keyword will result in an error or misinterpretation.\n",
      "  warnings.warn(\n"
     ]
    },
    {
     "data": {
      "image/png": "[encoded data removed]",
      "text/plain": [
       "<Figure size 864x720 with 1 Axes>"
      ]
     },
     "metadata": {},
     "output_type": "display_data"
    }
   ],
   "source": [
    "import matplotlib.pyplot as plt\n",
    "%matplotlib inline\n",
    "import seaborn as sns\n",
    "sns.set_style('darkgrid')\n",
    "plt.subplots(figsize=(12,10))\n",
    "x=['Puzzle','Simulation','Action','Adventure','Sports','Family']\n",
    "y=[df.Genres[df.Genres=='Puzzle'].count(),df.Genres[df.Genres=='Simulation'].count(),df.Genres[df.Genres=='Action'].count(),\n",
    "df.Genres[df.Genres=='Adventure'].count(),df.Genres[df.Genres=='Sports'].count(),df.Genres[df.Genres=='Family'].count()]\n",
    "graph= sns.barplot(x,y,palette='Accent')\n",
    "graph.set(xlabel='Genres',ylabel='Number of Games')\n",
    "for p in graph.patches:\n",
    "             graph.annotate(\"%.f\" % p.get_height(), (p.get_x() + p.get_width() / 2.,p.get_height()),\n",
    "                             ha='center', va='center', fontsize=16, color='black', xytext=(0,10),textcoords='offset points')"
   ]
  },
  {
   "cell_type": "code",
   "execution_count": 41,
   "metadata": {},
   "outputs": [
    {
     "name": "stderr",
     "output_type": "stream",
     "text": [
      "E:\\Python\\lib\\site-packages\\seaborn\\_decorators.py:36: FutureWarning: Pass the following variables as keyword args: x, y. From version 0.12, the only valid positional argument will be `data`, and passing other arguments without an explicit keyword will result in an error or misinterpretation.\n",
      "  warnings.warn(\n"
     ]
    },
    {
     "data": {
      "image/png": "[encoded data removed]",
      "text/plain": [
       "<Figure size 864x720 with 1 Axes>"
      ]
     },
     "metadata": {},
     "output_type": "display_data"
    }
   ],
   "source": [
    "import matplotlib.pyplot as plt\n",
    "%matplotlib inline\n",
    "import seaborn as sns\n",
    "sns.set_style('darkgrid')\n",
    "plt.subplots(figsize=(12,10))\n",
    "x=['Puzzle','Simulation','Action','Adventure','Sports','Family']\n",
    "y=[df.Average_User_Rating[df.Genres=='Puzzle'].mean(),df.Average_User_Rating[df.Genres=='Simulation'].mean(),df.Average_User_Rating[df.Genres=='Action'].mean(),\n",
    "df.Average_User_Rating[df.Genres=='Adventure'].mean(),df.Average_User_Rating[df.Genres=='Sports'].mean(),df.Average_User_Rating[df.Genres=='Family'].mean()]\n",
    "graph= sns.barplot(x,y,palette='Accent')\n",
    "graph.set(xlabel='Genres',ylabel='User Rating')\n",
    "graph.set(ylim=(0,5))\n",
    "for p in graph.patches:\n",
    "             graph.annotate(\"%.2f\" % p.get_height(), (p.get_x() + p.get_width() / 2.,p.get_height()),\n",
    "                             ha='center', va='center', fontsize=16, color='black', xytext=(0,10),textcoords='offset points')"
   ]
  },
  {
   "cell_type": "code",
   "execution_count": 42,
   "metadata": {},
   "outputs": [
    {
     "data": {
      "text/plain": [
       "4+     2512\n",
       "12+     904\n",
       "9+      892\n",
       "17+     145\n",
       "Name: Age_Rating, dtype: int64"
      ]
     },
     "execution_count": 42,
     "metadata": {},
     "output_type": "execute_result"
    }
   ],
   "source": [
    "df.Age_Rating.value_counts()"
   ]
  },
  {
   "cell_type": "code",
   "execution_count": 43,
   "metadata": {},
   "outputs": [
    {
     "data": {
      "image/png": "[encoded data removed]",
      "text/plain": [
       "<Figure size 432x288 with 1 Axes>"
      ]
     },
     "metadata": {},
     "output_type": "display_data"
    }
   ],
   "source": [
    "import numpy as np\n",
    "import pandas as pd\n",
    "from pandas import Series, DataFrame\n",
    "import matplotlib.pyplot as plt\n",
    "\n",
    "data = [df.Age_Rating[df.Age_Rating=='4+'].count(),df.Age_Rating[df.Age_Rating=='9+'].count(),df.Age_Rating[df.Age_Rating=='12+'].count(),df.Age_Rating[df.Age_Rating=='17+'].count()]\n",
    "labels = ['4+','9+','12+','17+']\n",
    "plt.xticks(range(len(data)), labels)\n",
    "plt.xlabel('Age Rating')\n",
    "plt.ylabel('Number of Games')\n",
    "plt.title('Age Rating vs Games')\n",
    "plt.bar(range(len(data)),data,alpha=0.5) \n",
    "plt.show()\n"
   ]
  },
  {
   "cell_type": "code",
   "execution_count": 44,
   "metadata": {},
   "outputs": [
    {
     "name": "stderr",
     "output_type": "stream",
     "text": [
      "E:\\Python\\lib\\site-packages\\seaborn\\_decorators.py:36: FutureWarning: Pass the following variables as keyword args: x, y. From version 0.12, the only valid positional argument will be `data`, and passing other arguments without an explicit keyword will result in an error or misinterpretation.\n",
      "  warnings.warn(\n"
     ]
    },
    {
     "data": {
      "image/png": "[encoded data removed]",
      "text/plain": [
       "<Figure size 864x720 with 1 Axes>"
      ]
     },
     "metadata": {},
     "output_type": "display_data"
    }
   ],
   "source": [
    "import matplotlib.pyplot as plt\n",
    "%matplotlib inline\n",
    "import seaborn as sns\n",
    "sns.set_style('darkgrid')\n",
    "plt.subplots(figsize=(12,10))\n",
    "x=['4+','9+','12+','17+']\n",
    "y=[df.Average_User_Rating[df.Age_Rating=='4+'].mean(),df.Average_User_Rating[df.Age_Rating=='9+'].mean(),df.Average_User_Rating[df.Age_Rating=='12+'].mean(),df.Average_User_Rating[df.Age_Rating=='17+'].mean()]\n",
    "graph= sns.barplot(x,y,palette='Accent')\n",
    "graph.set(xlabel='Age Rating',ylabel='User Rating')\n",
    "graph.set(ylim=(0,5))\n",
    "for p in graph.patches:\n",
    "             graph.annotate(\"%.2f\" % p.get_height(), (p.get_x() + p.get_width() / 2.,p.get_height()),\n",
    "                             ha='center', va='center', fontsize=16, color='black', xytext=(0,10),textcoords='offset points')"
   ]
  },
  {
   "cell_type": "code",
   "execution_count": 45,
   "metadata": {},
   "outputs": [
    {
     "data": {
      "text/html": [
       "<div>\n",
       "<style scoped>\n",
       "    .dataframe tbody tr th:only-of-type {\n",
       "        vertical-align: middle;\n",
       "    }\n",
       "\n",
       "    .dataframe tbody tr th {\n",
       "        vertical-align: top;\n",
       "    }\n",
       "\n",
       "    .dataframe thead th {\n",
       "        text-align: right;\n",
       "    }\n",
       "</style>\n",
       "<table border=\"1\" class=\"dataframe\">\n",
       "  <thead>\n",
       "    <tr style=\"text-align: right;\">\n",
       "      <th>Average_User_Rating</th>\n",
       "      <th>1.0</th>\n",
       "      <th>1.5</th>\n",
       "      <th>2.0</th>\n",
       "      <th>2.5</th>\n",
       "      <th>3.0</th>\n",
       "      <th>3.5</th>\n",
       "      <th>4.0</th>\n",
       "      <th>4.5</th>\n",
       "      <th>5.0</th>\n",
       "    </tr>\n",
       "    <tr>\n",
       "      <th>Age_Rating</th>\n",
       "      <th></th>\n",
       "      <th></th>\n",
       "      <th></th>\n",
       "      <th></th>\n",
       "      <th></th>\n",
       "      <th></th>\n",
       "      <th></th>\n",
       "      <th></th>\n",
       "      <th></th>\n",
       "    </tr>\n",
       "  </thead>\n",
       "  <tbody>\n",
       "    <tr>\n",
       "      <th>12+</th>\n",
       "      <td>2</td>\n",
       "      <td>1</td>\n",
       "      <td>5</td>\n",
       "      <td>22</td>\n",
       "      <td>38</td>\n",
       "      <td>101</td>\n",
       "      <td>234</td>\n",
       "      <td>418</td>\n",
       "      <td>83</td>\n",
       "    </tr>\n",
       "    <tr>\n",
       "      <th>17+</th>\n",
       "      <td>0</td>\n",
       "      <td>0</td>\n",
       "      <td>4</td>\n",
       "      <td>3</td>\n",
       "      <td>8</td>\n",
       "      <td>21</td>\n",
       "      <td>35</td>\n",
       "      <td>61</td>\n",
       "      <td>13</td>\n",
       "    </tr>\n",
       "    <tr>\n",
       "      <th>4+</th>\n",
       "      <td>4</td>\n",
       "      <td>17</td>\n",
       "      <td>38</td>\n",
       "      <td>109</td>\n",
       "      <td>167</td>\n",
       "      <td>302</td>\n",
       "      <td>607</td>\n",
       "      <td>977</td>\n",
       "      <td>291</td>\n",
       "    </tr>\n",
       "    <tr>\n",
       "      <th>9+</th>\n",
       "      <td>0</td>\n",
       "      <td>3</td>\n",
       "      <td>6</td>\n",
       "      <td>12</td>\n",
       "      <td>40</td>\n",
       "      <td>120</td>\n",
       "      <td>179</td>\n",
       "      <td>438</td>\n",
       "      <td>94</td>\n",
       "    </tr>\n",
       "  </tbody>\n",
       "</table>\n",
       "</div>"
      ],
      "text/plain": [
       "Average_User_Rating  1.0  1.5  2.0  2.5  3.0  3.5  4.0  4.5  5.0\n",
       "Age_Rating                                                      \n",
       "12+                    2    1    5   22   38  101  234  418   83\n",
       "17+                    0    0    4    3    8   21   35   61   13\n",
       "4+                     4   17   38  109  167  302  607  977  291\n",
       "9+                     0    3    6   12   40  120  179  438   94"
      ]
     },
     "execution_count": 45,
     "metadata": {},
     "output_type": "execute_result"
    }
   ],
   "source": [
    "pd.crosstab(df.Age_Rating,df.Average_User_Rating)"
   ]
  },
  {
   "cell_type": "code",
   "execution_count": 46,
   "metadata": {},
   "outputs": [],
   "source": [
    "#Converting bytes to MB for better understanding\n",
    "df['Size']=round(df['Size']/1000000,1)"
   ]
  },
  {
   "cell_type": "code",
   "execution_count": 47,
   "metadata": {},
   "outputs": [
    {
     "name": "stderr",
     "output_type": "stream",
     "text": [
      "E:\\Python\\lib\\site-packages\\seaborn\\distributions.py:2557: FutureWarning: `distplot` is a deprecated function and will be removed in a future version. Please adapt your code to use either `displot` (a figure-level function with similar flexibility) or `histplot` (an axes-level function for histograms).\n",
      "  warnings.warn(msg, FutureWarning)\n"
     ]
    },
    {
     "data": {
      "image/png": "[encoded data removed]",
      "text/plain": [
       "<Figure size 864x1152 with 3 Axes>"
      ]
     },
     "metadata": {},
     "output_type": "display_data"
    }
   ],
   "source": [
    "Less_Than_250=df.Size[df.Size<251]\n",
    "Between_250_and_1gb=df.Size[(df.Size>250) & (df.Size<=1000)]\n",
    "More_Than_1gb=df.Size[df.Size>1000]\n",
    "sns.set_style('darkgrid')\n",
    "g,axes = plt.subplots(3,1,figsize=(12,16))\n",
    "\n",
    "graph1=sns.distplot(Less_Than_250,bins=5,kde=False,ax=axes[0])\n",
    "graph2=sns.distplot(Between_250_and_1gb,bins=5,kde=False,ax=axes[1])\n",
    "graph3=sns.distplot(More_Than_1gb,bins=5,kde=False,ax=axes[2])\n",
    "graph1.set(xlabel='Size(MB)',ylabel='Number of Games',title='Number of Apps with Size less than 250 MB')\n",
    "graph2.set(xlabel='Size(MB)',ylabel='Number of Games',title='Number of Apps with Size more than 250 MB and less than 1 GB')\n",
    "graph3.set(xlabel='Size(MB)',ylabel='Number of Games',title='Number of Apps with Size more than 1 GB')\n",
    "graph1.set(ylim=(0,2000))\n",
    "graph2.set(ylim=(0,1000))\n",
    "graph3.set(ylim=(0,500))\n",
    "plt.ioff()"
   ]
  },
  {
   "cell_type": "code",
   "execution_count": 48,
   "metadata": {},
   "outputs": [
    {
     "data": {
      "image/png": "[encoded data removed]",
      "text/plain": [
       "<Figure size 432x288 with 1 Axes>"
      ]
     },
     "metadata": {},
     "output_type": "display_data"
    }
   ],
   "source": [
    "import seaborn as sns\n",
    "s=sns.stripplot(x='Genres',y='Size',data=df,hue='Average_User_Rating',dodge=True,size=5)\n",
    "plt.legend(title='User Rating',bbox_to_anchor=(1,1))\n",
    "s.set(ylim=(0,2000))\n",
    "s.set(xlabel='Genre',ylabel='Size(MB)')\n",
    "plt.ioff()"
   ]
  },
  {
   "cell_type": "code",
   "execution_count": 49,
   "metadata": {},
   "outputs": [
    {
     "data": {
      "image/png": "[encoded data removed]",
      "text/plain": [
       "<Figure size 864x1152 with 3 Axes>"
      ]
     },
     "metadata": {},
     "output_type": "display_data"
    }
   ],
   "source": [
    "sns.set_style('darkgrid')\n",
    "g,axes = plt.subplots(3,1,figsize=(12,16))\n",
    "\n",
    "graph1=sns.boxplot(data=df[df.Size<251],x='Average_User_Rating',y='Size',ax=axes[0])\n",
    "graph2=sns.boxplot(data=df[(df.Size>250) & (df.Size<=1000)],x='Average_User_Rating',y='Size',ax=axes[1])\n",
    "graph3=sns.boxplot(data=df[df.Size>1000],x='Average_User_Rating',y='Size',ax=axes[2])\n",
    "graph1.set(xlabel='User Rating',ylabel='Size(MB)',title='User Rating for apps with Size less than 250 MB')\n",
    "graph2.set(xlabel='User Rating',ylabel='Size(MB)',title='User Rating for apps with Size more than 250 MB and less than 1 GB')\n",
    "graph3.set(xlabel='User Rating)',ylabel='Size(MB)',title='User Rating for apps with Size more than 1 GB')\n",
    "plt.ioff()"
   ]
  },
  {
   "cell_type": "code",
   "execution_count": 50,
   "metadata": {},
   "outputs": [
    {
     "data": {
      "text/plain": [
       "4.5    1530\n",
       "4.0     817\n",
       "3.5     424\n",
       "5.0     384\n",
       "3.0     198\n",
       "2.5     114\n",
       "2.0      39\n",
       "1.5      13\n",
       "1.0       2\n",
       "Name: Average_User_Rating, dtype: int64"
      ]
     },
     "execution_count": 50,
     "metadata": {},
     "output_type": "execute_result"
    }
   ],
   "source": [
    "df.loc[df.Price==0,'Average_User_Rating'].value_counts()"
   ]
  },
  {
   "cell_type": "code",
   "execution_count": 51,
   "metadata": {},
   "outputs": [
    {
     "data": {
      "text/plain": [
       "4.5    364\n",
       "4.0    238\n",
       "3.5    120\n",
       "5.0     97\n",
       "3.0     55\n",
       "2.5     32\n",
       "2.0     14\n",
       "1.5      8\n",
       "1.0      4\n",
       "Name: Average_User_Rating, dtype: int64"
      ]
     },
     "execution_count": 51,
     "metadata": {},
     "output_type": "execute_result"
    }
   ],
   "source": [
    "df.loc[df.Price>0,'Average_User_Rating'].value_counts()"
   ]
  },
  {
   "cell_type": "code",
   "execution_count": 52,
   "metadata": {},
   "outputs": [],
   "source": [
    "#we don't need exact details of in app purchases of apps. So we will put 0 for no in app purchases and 1 for yes so that we can\n",
    "#easily find how having in app purchases and price can affect user ratings\n",
    "for x in df.In_app_Purchases.index:\n",
    "    if df.loc[x,'In_app_Purchases']==0:\n",
    "        \n",
    "        df.loc[x,'In_app_Purchases']=0\n",
    "    else:\n",
    "        df.loc[x,'In_app_Purchases']=1"
   ]
  },
  {
   "cell_type": "code",
   "execution_count": 53,
   "metadata": {},
   "outputs": [
    {
     "data": {
      "text/html": [
       "<div>\n",
       "<style scoped>\n",
       "    .dataframe tbody tr th:only-of-type {\n",
       "        vertical-align: middle;\n",
       "    }\n",
       "\n",
       "    .dataframe tbody tr th {\n",
       "        vertical-align: top;\n",
       "    }\n",
       "\n",
       "    .dataframe thead th {\n",
       "        text-align: right;\n",
       "    }\n",
       "</style>\n",
       "<table border=\"1\" class=\"dataframe\">\n",
       "  <thead>\n",
       "    <tr style=\"text-align: right;\">\n",
       "      <th></th>\n",
       "      <th>Average_User_Rating</th>\n",
       "      <th>User_Rating_Count</th>\n",
       "      <th>Price</th>\n",
       "      <th>In_app_Purchases</th>\n",
       "      <th>Developer</th>\n",
       "      <th>Age_Rating</th>\n",
       "      <th>Languages</th>\n",
       "      <th>Size</th>\n",
       "      <th>Genres</th>\n",
       "      <th>Original_Release_Date</th>\n",
       "      <th>Current_Version_Release_Date</th>\n",
       "      <th>Time</th>\n",
       "    </tr>\n",
       "  </thead>\n",
       "  <tbody>\n",
       "    <tr>\n",
       "      <th>0</th>\n",
       "      <td>4.0</td>\n",
       "      <td>3553.0</td>\n",
       "      <td>2.99</td>\n",
       "      <td>0</td>\n",
       "      <td>Mighty Mighty Good Games</td>\n",
       "      <td>4+</td>\n",
       "      <td>DA, NL, EN, FI, FR, DE, IT, JA, KO, NB, PL, PT...</td>\n",
       "      <td>15.9</td>\n",
       "      <td>Puzzle</td>\n",
       "      <td>2008-11-07</td>\n",
       "      <td>2017-05-30</td>\n",
       "      <td>3126 days</td>\n",
       "    </tr>\n",
       "    <tr>\n",
       "      <th>1</th>\n",
       "      <td>3.5</td>\n",
       "      <td>284.0</td>\n",
       "      <td>1.99</td>\n",
       "      <td>0</td>\n",
       "      <td>Kiss The Machine</td>\n",
       "      <td>4+</td>\n",
       "      <td>EN</td>\n",
       "      <td>12.3</td>\n",
       "      <td>Puzzle</td>\n",
       "      <td>2008-11-07</td>\n",
       "      <td>2018-05-17</td>\n",
       "      <td>3478 days</td>\n",
       "    </tr>\n",
       "    <tr>\n",
       "      <th>2</th>\n",
       "      <td>3.0</td>\n",
       "      <td>8376.0</td>\n",
       "      <td>0.00</td>\n",
       "      <td>0</td>\n",
       "      <td>Bayou Games</td>\n",
       "      <td>4+</td>\n",
       "      <td>EN</td>\n",
       "      <td>0.7</td>\n",
       "      <td>Puzzle</td>\n",
       "      <td>2008-11-07</td>\n",
       "      <td>2017-05-09</td>\n",
       "      <td>3105 days</td>\n",
       "    </tr>\n",
       "    <tr>\n",
       "      <th>3</th>\n",
       "      <td>3.5</td>\n",
       "      <td>190394.0</td>\n",
       "      <td>0.00</td>\n",
       "      <td>0</td>\n",
       "      <td>Mighty Mighty Good Games</td>\n",
       "      <td>4+</td>\n",
       "      <td>DA, NL, EN, FI, FR, DE, IT, JA, KO, NB, PL, PT...</td>\n",
       "      <td>21.6</td>\n",
       "      <td>Puzzle</td>\n",
       "      <td>2008-07-23</td>\n",
       "      <td>2017-05-30</td>\n",
       "      <td>3233 days</td>\n",
       "    </tr>\n",
       "    <tr>\n",
       "      <th>4</th>\n",
       "      <td>3.5</td>\n",
       "      <td>28.0</td>\n",
       "      <td>2.99</td>\n",
       "      <td>0</td>\n",
       "      <td>RoGame Software</td>\n",
       "      <td>4+</td>\n",
       "      <td>DA, NL, EN, FR, DE, EL, IT, JA, KO, NO, PT, RU...</td>\n",
       "      <td>34.7</td>\n",
       "      <td>Puzzle</td>\n",
       "      <td>2008-07-18</td>\n",
       "      <td>2018-07-22</td>\n",
       "      <td>3656 days</td>\n",
       "    </tr>\n",
       "  </tbody>\n",
       "</table>\n",
       "</div>"
      ],
      "text/plain": [
       "   Average_User_Rating  User_Rating_Count  Price In_app_Purchases  \\\n",
       "0                  4.0             3553.0   2.99                0   \n",
       "1                  3.5              284.0   1.99                0   \n",
       "2                  3.0             8376.0   0.00                0   \n",
       "3                  3.5           190394.0   0.00                0   \n",
       "4                  3.5               28.0   2.99                0   \n",
       "\n",
       "                  Developer Age_Rating  \\\n",
       "0  Mighty Mighty Good Games         4+   \n",
       "1          Kiss The Machine         4+   \n",
       "2               Bayou Games         4+   \n",
       "3  Mighty Mighty Good Games         4+   \n",
       "4           RoGame Software         4+   \n",
       "\n",
       "                                           Languages  Size  Genres  \\\n",
       "0  DA, NL, EN, FI, FR, DE, IT, JA, KO, NB, PL, PT...  15.9  Puzzle   \n",
       "1                                                 EN  12.3  Puzzle   \n",
       "2                                                 EN   0.7  Puzzle   \n",
       "3  DA, NL, EN, FI, FR, DE, IT, JA, KO, NB, PL, PT...  21.6  Puzzle   \n",
       "4  DA, NL, EN, FR, DE, EL, IT, JA, KO, NO, PT, RU...  34.7  Puzzle   \n",
       "\n",
       "  Original_Release_Date Current_Version_Release_Date      Time  \n",
       "0            2008-11-07                   2017-05-30 3126 days  \n",
       "1            2008-11-07                   2018-05-17 3478 days  \n",
       "2            2008-11-07                   2017-05-09 3105 days  \n",
       "3            2008-07-23                   2017-05-30 3233 days  \n",
       "4            2008-07-18                   2018-07-22 3656 days  "
      ]
     },
     "execution_count": 53,
     "metadata": {},
     "output_type": "execute_result"
    }
   ],
   "source": [
    "df.head()"
   ]
  },
  {
   "cell_type": "markdown",
   "metadata": {},
   "source": [
    "# 1"
   ]
  },
  {
   "cell_type": "code",
   "execution_count": 54,
   "metadata": {},
   "outputs": [
    {
     "data": {
      "text/plain": [
       "4.5    256\n",
       "4.0    220\n",
       "3.5    160\n",
       "5.0    101\n",
       "3.0     85\n",
       "2.5     58\n",
       "2.0     17\n",
       "1.5      5\n",
       "1.0      2\n",
       "Name: Average_User_Rating, dtype: int64"
      ]
     },
     "execution_count": 54,
     "metadata": {},
     "output_type": "execute_result"
    }
   ],
   "source": [
    "#Totally free apps\n",
    "df.loc[(df.In_app_Purchases==0) & (df.Price==0.0),'Average_User_Rating'].value_counts()"
   ]
  },
  {
   "cell_type": "markdown",
   "metadata": {},
   "source": [
    "# 2"
   ]
  },
  {
   "cell_type": "code",
   "execution_count": 55,
   "metadata": {},
   "outputs": [
    {
     "data": {
      "text/plain": [
       "4.5    223\n",
       "4.0    148\n",
       "3.5     84\n",
       "5.0     64\n",
       "3.0     47\n",
       "2.5     25\n",
       "2.0     12\n",
       "1.5      8\n",
       "1.0      3\n",
       "Name: Average_User_Rating, dtype: int64"
      ]
     },
     "execution_count": 55,
     "metadata": {},
     "output_type": "execute_result"
    }
   ],
   "source": [
    "#Apps with no in app purchases but are paid\n",
    "df.loc[(df.In_app_Purchases==0) & (df.Price>0.0),'Average_User_Rating'].value_counts()"
   ]
  },
  {
   "cell_type": "markdown",
   "metadata": {},
   "source": [
    "# 3"
   ]
  },
  {
   "cell_type": "code",
   "execution_count": 56,
   "metadata": {},
   "outputs": [
    {
     "data": {
      "text/plain": [
       "4.5    1274\n",
       "4.0     597\n",
       "5.0     283\n",
       "3.5     264\n",
       "3.0     113\n",
       "2.5      56\n",
       "2.0      22\n",
       "1.5       8\n",
       "Name: Average_User_Rating, dtype: int64"
      ]
     },
     "execution_count": 56,
     "metadata": {},
     "output_type": "execute_result"
    }
   ],
   "source": [
    "#Apps which are free but have in app purchases\n",
    "df.loc[(df.In_app_Purchases==1) & (df.Price==0.0),'Average_User_Rating'].value_counts()"
   ]
  },
  {
   "cell_type": "markdown",
   "metadata": {},
   "source": [
    "# 4"
   ]
  },
  {
   "cell_type": "code",
   "execution_count": 57,
   "metadata": {},
   "outputs": [
    {
     "data": {
      "text/plain": [
       "4.5    141\n",
       "4.0     90\n",
       "3.5     36\n",
       "5.0     33\n",
       "3.0      8\n",
       "2.5      7\n",
       "2.0      2\n",
       "1.0      1\n",
       "Name: Average_User_Rating, dtype: int64"
      ]
     },
     "execution_count": 57,
     "metadata": {},
     "output_type": "execute_result"
    }
   ],
   "source": [
    "#Apps which have in app purchases and are also not free\n",
    "df.loc[(df.Price>0.0) & (df.In_app_Purchases==1),'Average_User_Rating'].value_counts()"
   ]
  },
  {
   "cell_type": "code",
   "execution_count": 58,
   "metadata": {},
   "outputs": [
    {
     "data": {
      "text/html": [
       "<div>\n",
       "<style scoped>\n",
       "    .dataframe tbody tr th:only-of-type {\n",
       "        vertical-align: middle;\n",
       "    }\n",
       "\n",
       "    .dataframe tbody tr th {\n",
       "        vertical-align: top;\n",
       "    }\n",
       "\n",
       "    .dataframe thead th {\n",
       "        text-align: right;\n",
       "    }\n",
       "</style>\n",
       "<table border=\"1\" class=\"dataframe\">\n",
       "  <thead>\n",
       "    <tr style=\"text-align: right;\">\n",
       "      <th>In_app_Purchases</th>\n",
       "      <th>0</th>\n",
       "      <th>1</th>\n",
       "    </tr>\n",
       "    <tr>\n",
       "      <th>Price</th>\n",
       "      <th></th>\n",
       "      <th></th>\n",
       "    </tr>\n",
       "  </thead>\n",
       "  <tbody>\n",
       "    <tr>\n",
       "      <th>0.00</th>\n",
       "      <td>904</td>\n",
       "      <td>2617</td>\n",
       "    </tr>\n",
       "    <tr>\n",
       "      <th>0.99</th>\n",
       "      <td>170</td>\n",
       "      <td>94</td>\n",
       "    </tr>\n",
       "    <tr>\n",
       "      <th>1.99</th>\n",
       "      <td>101</td>\n",
       "      <td>59</td>\n",
       "    </tr>\n",
       "    <tr>\n",
       "      <th>2.99</th>\n",
       "      <td>126</td>\n",
       "      <td>70</td>\n",
       "    </tr>\n",
       "    <tr>\n",
       "      <th>3.99</th>\n",
       "      <td>51</td>\n",
       "      <td>19</td>\n",
       "    </tr>\n",
       "    <tr>\n",
       "      <th>4.99</th>\n",
       "      <td>86</td>\n",
       "      <td>52</td>\n",
       "    </tr>\n",
       "    <tr>\n",
       "      <th>5.99</th>\n",
       "      <td>16</td>\n",
       "      <td>4</td>\n",
       "    </tr>\n",
       "    <tr>\n",
       "      <th>6.99</th>\n",
       "      <td>15</td>\n",
       "      <td>5</td>\n",
       "    </tr>\n",
       "    <tr>\n",
       "      <th>7.99</th>\n",
       "      <td>9</td>\n",
       "      <td>1</td>\n",
       "    </tr>\n",
       "    <tr>\n",
       "      <th>8.99</th>\n",
       "      <td>10</td>\n",
       "      <td>2</td>\n",
       "    </tr>\n",
       "    <tr>\n",
       "      <th>9.99</th>\n",
       "      <td>24</td>\n",
       "      <td>6</td>\n",
       "    </tr>\n",
       "    <tr>\n",
       "      <th>11.99</th>\n",
       "      <td>3</td>\n",
       "      <td>0</td>\n",
       "    </tr>\n",
       "    <tr>\n",
       "      <th>12.99</th>\n",
       "      <td>0</td>\n",
       "      <td>2</td>\n",
       "    </tr>\n",
       "    <tr>\n",
       "      <th>14.99</th>\n",
       "      <td>0</td>\n",
       "      <td>1</td>\n",
       "    </tr>\n",
       "    <tr>\n",
       "      <th>16.99</th>\n",
       "      <td>1</td>\n",
       "      <td>0</td>\n",
       "    </tr>\n",
       "    <tr>\n",
       "      <th>19.99</th>\n",
       "      <td>2</td>\n",
       "      <td>2</td>\n",
       "    </tr>\n",
       "    <tr>\n",
       "      <th>139.99</th>\n",
       "      <td>0</td>\n",
       "      <td>1</td>\n",
       "    </tr>\n",
       "  </tbody>\n",
       "</table>\n",
       "</div>"
      ],
      "text/plain": [
       "In_app_Purchases    0     1\n",
       "Price                      \n",
       "0.00              904  2617\n",
       "0.99              170    94\n",
       "1.99              101    59\n",
       "2.99              126    70\n",
       "3.99               51    19\n",
       "4.99               86    52\n",
       "5.99               16     4\n",
       "6.99               15     5\n",
       "7.99                9     1\n",
       "8.99               10     2\n",
       "9.99               24     6\n",
       "11.99               3     0\n",
       "12.99               0     2\n",
       "14.99               0     1\n",
       "16.99               1     0\n",
       "19.99               2     2\n",
       "139.99              0     1"
      ]
     },
     "execution_count": 58,
     "metadata": {},
     "output_type": "execute_result"
    }
   ],
   "source": [
    "pd.crosstab(df.Price,df.In_app_Purchases)"
   ]
  },
  {
   "cell_type": "code",
   "execution_count": 59,
   "metadata": {},
   "outputs": [
    {
     "data": {
      "text/plain": [
       "Average_User_Rating             0\n",
       "User_Rating_Count               0\n",
       "Price                           0\n",
       "In_app_Purchases                0\n",
       "Developer                       0\n",
       "Age_Rating                      0\n",
       "Languages                       0\n",
       "Size                            0\n",
       "Genres                          0\n",
       "Original_Release_Date           0\n",
       "Current_Version_Release_Date    0\n",
       "Time                            0\n",
       "dtype: int64"
      ]
     },
     "execution_count": 59,
     "metadata": {},
     "output_type": "execute_result"
    }
   ],
   "source": [
    "df.isnull().sum()"
   ]
  },
  {
   "cell_type": "code",
   "execution_count": 60,
   "metadata": {},
   "outputs": [
    {
     "data": {
      "text/html": [
       "<div>\n",
       "<style scoped>\n",
       "    .dataframe tbody tr th:only-of-type {\n",
       "        vertical-align: middle;\n",
       "    }\n",
       "\n",
       "    .dataframe tbody tr th {\n",
       "        vertical-align: top;\n",
       "    }\n",
       "\n",
       "    .dataframe thead th {\n",
       "        text-align: right;\n",
       "    }\n",
       "</style>\n",
       "<table border=\"1\" class=\"dataframe\">\n",
       "  <thead>\n",
       "    <tr style=\"text-align: right;\">\n",
       "      <th></th>\n",
       "      <th>Average_User_Rating</th>\n",
       "      <th>User_Rating_Count</th>\n",
       "      <th>Price</th>\n",
       "      <th>In_app_Purchases</th>\n",
       "      <th>Developer</th>\n",
       "      <th>Age_Rating</th>\n",
       "      <th>Languages</th>\n",
       "      <th>Size</th>\n",
       "      <th>Genres</th>\n",
       "      <th>Original_Release_Date</th>\n",
       "      <th>Current_Version_Release_Date</th>\n",
       "      <th>Time</th>\n",
       "    </tr>\n",
       "  </thead>\n",
       "  <tbody>\n",
       "    <tr>\n",
       "      <th>0</th>\n",
       "      <td>4.0</td>\n",
       "      <td>3553.0</td>\n",
       "      <td>2.99</td>\n",
       "      <td>0</td>\n",
       "      <td>Mighty Mighty Good Games</td>\n",
       "      <td>4+</td>\n",
       "      <td>DA, NL, EN, FI, FR, DE, IT, JA, KO, NB, PL, PT...</td>\n",
       "      <td>15.9</td>\n",
       "      <td>Puzzle</td>\n",
       "      <td>2008-11-07</td>\n",
       "      <td>2017-05-30</td>\n",
       "      <td>3126 days</td>\n",
       "    </tr>\n",
       "    <tr>\n",
       "      <th>1</th>\n",
       "      <td>3.5</td>\n",
       "      <td>284.0</td>\n",
       "      <td>1.99</td>\n",
       "      <td>0</td>\n",
       "      <td>Kiss The Machine</td>\n",
       "      <td>4+</td>\n",
       "      <td>EN</td>\n",
       "      <td>12.3</td>\n",
       "      <td>Puzzle</td>\n",
       "      <td>2008-11-07</td>\n",
       "      <td>2018-05-17</td>\n",
       "      <td>3478 days</td>\n",
       "    </tr>\n",
       "    <tr>\n",
       "      <th>2</th>\n",
       "      <td>3.0</td>\n",
       "      <td>8376.0</td>\n",
       "      <td>0.00</td>\n",
       "      <td>0</td>\n",
       "      <td>Bayou Games</td>\n",
       "      <td>4+</td>\n",
       "      <td>EN</td>\n",
       "      <td>0.7</td>\n",
       "      <td>Puzzle</td>\n",
       "      <td>2008-11-07</td>\n",
       "      <td>2017-05-09</td>\n",
       "      <td>3105 days</td>\n",
       "    </tr>\n",
       "    <tr>\n",
       "      <th>3</th>\n",
       "      <td>3.5</td>\n",
       "      <td>190394.0</td>\n",
       "      <td>0.00</td>\n",
       "      <td>0</td>\n",
       "      <td>Mighty Mighty Good Games</td>\n",
       "      <td>4+</td>\n",
       "      <td>DA, NL, EN, FI, FR, DE, IT, JA, KO, NB, PL, PT...</td>\n",
       "      <td>21.6</td>\n",
       "      <td>Puzzle</td>\n",
       "      <td>2008-07-23</td>\n",
       "      <td>2017-05-30</td>\n",
       "      <td>3233 days</td>\n",
       "    </tr>\n",
       "    <tr>\n",
       "      <th>4</th>\n",
       "      <td>3.5</td>\n",
       "      <td>28.0</td>\n",
       "      <td>2.99</td>\n",
       "      <td>0</td>\n",
       "      <td>RoGame Software</td>\n",
       "      <td>4+</td>\n",
       "      <td>DA, NL, EN, FR, DE, EL, IT, JA, KO, NO, PT, RU...</td>\n",
       "      <td>34.7</td>\n",
       "      <td>Puzzle</td>\n",
       "      <td>2008-07-18</td>\n",
       "      <td>2018-07-22</td>\n",
       "      <td>3656 days</td>\n",
       "    </tr>\n",
       "    <tr>\n",
       "      <th>5</th>\n",
       "      <td>3.0</td>\n",
       "      <td>47.0</td>\n",
       "      <td>0.00</td>\n",
       "      <td>1</td>\n",
       "      <td>OutOfTheBit Ltd</td>\n",
       "      <td>4+</td>\n",
       "      <td>EN</td>\n",
       "      <td>48.7</td>\n",
       "      <td>Puzzle</td>\n",
       "      <td>2008-07-30</td>\n",
       "      <td>2019-04-29</td>\n",
       "      <td>3925 days</td>\n",
       "    </tr>\n",
       "    <tr>\n",
       "      <th>7</th>\n",
       "      <td>2.5</td>\n",
       "      <td>125.0</td>\n",
       "      <td>0.99</td>\n",
       "      <td>0</td>\n",
       "      <td>Chris Haynes</td>\n",
       "      <td>4+</td>\n",
       "      <td>EN</td>\n",
       "      <td>64.3</td>\n",
       "      <td>Puzzle</td>\n",
       "      <td>2008-03-08</td>\n",
       "      <td>2018-03-10</td>\n",
       "      <td>3654 days</td>\n",
       "    </tr>\n",
       "    <tr>\n",
       "      <th>8</th>\n",
       "      <td>2.5</td>\n",
       "      <td>44.0</td>\n",
       "      <td>0.00</td>\n",
       "      <td>0</td>\n",
       "      <td>Jean-Francois Pautex</td>\n",
       "      <td>4+</td>\n",
       "      <td>FR</td>\n",
       "      <td>2.7</td>\n",
       "      <td>Puzzle</td>\n",
       "      <td>2008-03-08</td>\n",
       "      <td>2017-11-23</td>\n",
       "      <td>3547 days</td>\n",
       "    </tr>\n",
       "    <tr>\n",
       "      <th>11</th>\n",
       "      <td>3.5</td>\n",
       "      <td>5072.0</td>\n",
       "      <td>0.00</td>\n",
       "      <td>0</td>\n",
       "      <td>Bridger Maxwell</td>\n",
       "      <td>4+</td>\n",
       "      <td>EN</td>\n",
       "      <td>7.1</td>\n",
       "      <td>Puzzle</td>\n",
       "      <td>2008-08-18</td>\n",
       "      <td>2008-11-22</td>\n",
       "      <td>96 days</td>\n",
       "    </tr>\n",
       "    <tr>\n",
       "      <th>13</th>\n",
       "      <td>3.5</td>\n",
       "      <td>989.0</td>\n",
       "      <td>0.99</td>\n",
       "      <td>0</td>\n",
       "      <td>Mikko Kankainen</td>\n",
       "      <td>4+</td>\n",
       "      <td>EN</td>\n",
       "      <td>3.6</td>\n",
       "      <td>Puzzle</td>\n",
       "      <td>2008-08-28</td>\n",
       "      <td>2019-05-05</td>\n",
       "      <td>3902 days</td>\n",
       "    </tr>\n",
       "  </tbody>\n",
       "</table>\n",
       "</div>"
      ],
      "text/plain": [
       "    Average_User_Rating  User_Rating_Count  Price In_app_Purchases  \\\n",
       "0                   4.0             3553.0   2.99                0   \n",
       "1                   3.5              284.0   1.99                0   \n",
       "2                   3.0             8376.0   0.00                0   \n",
       "3                   3.5           190394.0   0.00                0   \n",
       "4                   3.5               28.0   2.99                0   \n",
       "5                   3.0               47.0   0.00                1   \n",
       "7                   2.5              125.0   0.99                0   \n",
       "8                   2.5               44.0   0.00                0   \n",
       "11                  3.5             5072.0   0.00                0   \n",
       "13                  3.5              989.0   0.99                0   \n",
       "\n",
       "                   Developer Age_Rating  \\\n",
       "0   Mighty Mighty Good Games         4+   \n",
       "1           Kiss The Machine         4+   \n",
       "2                Bayou Games         4+   \n",
       "3   Mighty Mighty Good Games         4+   \n",
       "4            RoGame Software         4+   \n",
       "5            OutOfTheBit Ltd         4+   \n",
       "7               Chris Haynes         4+   \n",
       "8       Jean-Francois Pautex         4+   \n",
       "11           Bridger Maxwell         4+   \n",
       "13           Mikko Kankainen         4+   \n",
       "\n",
       "                                            Languages  Size  Genres  \\\n",
       "0   DA, NL, EN, FI, FR, DE, IT, JA, KO, NB, PL, PT...  15.9  Puzzle   \n",
       "1                                                  EN  12.3  Puzzle   \n",
       "2                                                  EN   0.7  Puzzle   \n",
       "3   DA, NL, EN, FI, FR, DE, IT, JA, KO, NB, PL, PT...  21.6  Puzzle   \n",
       "4   DA, NL, EN, FR, DE, EL, IT, JA, KO, NO, PT, RU...  34.7  Puzzle   \n",
       "5                                                  EN  48.7  Puzzle   \n",
       "7                                                  EN  64.3  Puzzle   \n",
       "8                                                  FR   2.7  Puzzle   \n",
       "11                                                 EN   7.1  Puzzle   \n",
       "13                                                 EN   3.6  Puzzle   \n",
       "\n",
       "   Original_Release_Date Current_Version_Release_Date      Time  \n",
       "0             2008-11-07                   2017-05-30 3126 days  \n",
       "1             2008-11-07                   2018-05-17 3478 days  \n",
       "2             2008-11-07                   2017-05-09 3105 days  \n",
       "3             2008-07-23                   2017-05-30 3233 days  \n",
       "4             2008-07-18                   2018-07-22 3656 days  \n",
       "5             2008-07-30                   2019-04-29 3925 days  \n",
       "7             2008-03-08                   2018-03-10 3654 days  \n",
       "8             2008-03-08                   2017-11-23 3547 days  \n",
       "11            2008-08-18                   2008-11-22   96 days  \n",
       "13            2008-08-28                   2019-05-05 3902 days  "
      ]
     },
     "execution_count": 60,
     "metadata": {},
     "output_type": "execute_result"
    }
   ],
   "source": [
    "df.head(10)"
   ]
  },
  {
   "cell_type": "code",
   "execution_count": 61,
   "metadata": {},
   "outputs": [
    {
     "data": {
      "text/plain": [
       "(4453, 12)"
      ]
     },
     "execution_count": 61,
     "metadata": {},
     "output_type": "execute_result"
    }
   ],
   "source": [
    "df.shape"
   ]
  },
  {
   "cell_type": "code",
   "execution_count": 62,
   "metadata": {},
   "outputs": [
    {
     "data": {
      "text/plain": [
       "Puzzle        1495\n",
       "Simulation     854\n",
       "Adventure      817\n",
       "Action         678\n",
       "Family         497\n",
       "Sports         112\n",
       "Name: Genres, dtype: int64"
      ]
     },
     "execution_count": 62,
     "metadata": {},
     "output_type": "execute_result"
    }
   ],
   "source": [
    "df['Genres'].value_counts()"
   ]
  },
  {
   "cell_type": "code",
   "execution_count": 63,
   "metadata": {},
   "outputs": [],
   "source": [
    "df.drop(columns=['Developer','Original_Release_Date','Current_Version_Release_Date'],axis=1,inplace=True)"
   ]
  },
  {
   "cell_type": "code",
   "execution_count": 64,
   "metadata": {},
   "outputs": [],
   "source": [
    "df.index=[i for i in range(0,len(df))]"
   ]
  },
  {
   "cell_type": "code",
   "execution_count": 65,
   "metadata": {},
   "outputs": [],
   "source": [
    "age_rating_dummies=pd.get_dummies(df['Age_Rating'],drop_first=True,prefix='rating')"
   ]
  },
  {
   "cell_type": "code",
   "execution_count": 66,
   "metadata": {},
   "outputs": [],
   "source": [
    "genres_dummies=pd.get_dummies(df['Genres'],drop_first=True,prefix='genre')"
   ]
  },
  {
   "cell_type": "code",
   "execution_count": 67,
   "metadata": {},
   "outputs": [],
   "source": [
    "def funct(x):\n",
    "    x=x.split(',')\n",
    "    for s in range(0,len(x)):\n",
    "        x[s]=x[s].strip()\n",
    "    t=len(x)\n",
    "    return t"
   ]
  },
  {
   "cell_type": "code",
   "execution_count": 68,
   "metadata": {},
   "outputs": [],
   "source": [
    "df['Languages']=df['Languages'].apply(funct)"
   ]
  },
  {
   "cell_type": "code",
   "execution_count": 69,
   "metadata": {},
   "outputs": [],
   "source": [
    "df=pd.concat([df,genres_dummies],axis=1)"
   ]
  },
  {
   "cell_type": "code",
   "execution_count": 70,
   "metadata": {},
   "outputs": [],
   "source": [
    "df=pd.concat([df,age_rating_dummies],axis=1)"
   ]
  },
  {
   "cell_type": "code",
   "execution_count": 71,
   "metadata": {},
   "outputs": [],
   "source": [
    "df=df.drop(['Genres','Age_Rating'],axis=1)"
   ]
  },
  {
   "cell_type": "code",
   "execution_count": 72,
   "metadata": {},
   "outputs": [],
   "source": [
    "rows=df.loc[df['Time']<'0 days','Time'].index"
   ]
  },
  {
   "cell_type": "code",
   "execution_count": 73,
   "metadata": {},
   "outputs": [],
   "source": [
    "df=df.drop(rows,axis=0)"
   ]
  },
  {
   "cell_type": "code",
   "execution_count": 74,
   "metadata": {},
   "outputs": [],
   "source": [
    "df['Time']=df['Time'].dt.days"
   ]
  },
  {
   "cell_type": "code",
   "execution_count": 137,
   "metadata": {},
   "outputs": [],
   "source": [
    "X=df.loc[:,df.columns!='Average_User_Rating']\n",
    "y=df['Average_User_Rating']"
   ]
  },
  {
   "cell_type": "code",
   "execution_count": 205,
   "metadata": {},
   "outputs": [],
   "source": [
    "from sklearn.model_selection import train_test_split\n",
    "X_train,X_test,y_train,y_test=train_test_split(X,y,test_size=0.20,random_state=71)\n",
    "y_test=pd.DataFrame(y_test)\n",
    "y_train=pd.DataFrame(y_train)"
   ]
  },
  {
   "cell_type": "code",
   "execution_count": 206,
   "metadata": {},
   "outputs": [],
   "source": [
    "from sklearn.preprocessing import MinMaxScaler\n",
    "sc_y=MinMaxScaler()\n",
    "y_train_scaled=pd.DataFrame(sc_y.fit_transform(y_train))\n",
    "y_train_scaled.columns=y_train.columns\n",
    "y_train_scaled.index=y_train.index\n",
    "\n",
    "y_test_scaled=pd.DataFrame(sc_y.transform(y_test))\n",
    "y_test_scaled.columns=y_test.columns\n",
    "y_test_scaled.index=y_test.index"
   ]
  },
  {
   "cell_type": "code",
   "execution_count": 208,
   "metadata": {},
   "outputs": [],
   "source": [
    "from sklearn.preprocessing import MinMaxScaler\n",
    "sc=MinMaxScaler()\n",
    "sc_cols=['User_Rating_Count','Price','Languages','Size','Time']\n",
    "X_train_scaled=X_train[sc_cols]\n",
    "X_train_scaled=pd.DataFrame(sc.fit_transform(X_train_scaled))\n",
    "X_train_scaled.columns=X_train[sc_cols].columns\n",
    "X_train_scaled.index=X_train.index"
   ]
  },
  {
   "cell_type": "code",
   "execution_count": 209,
   "metadata": {},
   "outputs": [],
   "source": [
    "X_test_scaled=X_test[sc_cols]\n",
    "X_test_scaled=pd.DataFrame(sc.transform(X_test_scaled))\n",
    "X_test_scaled.columns=X_test[sc_cols].columns\n",
    "X_test_scaled.index=X_test.index"
   ]
  },
  {
   "cell_type": "code",
   "execution_count": 210,
   "metadata": {},
   "outputs": [],
   "source": [
    "X_train=X_train.drop(columns=['User_Rating_Count','Price','Languages','Size','Time'],axis=1)\n",
    "X_train=pd.concat([X_train,X_train_scaled],axis=1)"
   ]
  },
  {
   "cell_type": "code",
   "execution_count": 211,
   "metadata": {},
   "outputs": [],
   "source": [
    "X_test=X_test.drop(columns=['User_Rating_Count','Price','Languages','Size','Time'],axis=1)\n",
    "X_test=pd.concat([X_test,X_test_scaled],axis=1)"
   ]
  },
  {
   "cell_type": "markdown",
   "metadata": {},
   "source": [
    "# Model Selection"
   ]
  },
  {
   "cell_type": "code",
   "execution_count": 215,
   "metadata": {},
   "outputs": [
    {
     "name": "stdout",
     "output_type": "stream",
     "text": [
      "0.02922585099425493\n"
     ]
    }
   ],
   "source": [
    "from sklearn.linear_model import LinearRegression\n",
    "from sklearn.metrics import r2_score,mean_squared_error\n",
    "\n",
    "linear=LinearRegression()\n",
    "linear.fit(X_train,y_train_scaled)\n",
    "pred=linear.predict(X_test)\n",
    "print(mean_squared_error(y_test_scaled,pred))"
   ]
  },
  {
   "cell_type": "code",
   "execution_count": 216,
   "metadata": {},
   "outputs": [
    {
     "name": "stderr",
     "output_type": "stream",
     "text": [
      "<ipython-input-216-aca7d18f84fc>:3: DataConversionWarning: A column-vector y was passed when a 1d array was expected. Please change the shape of y to (n_samples,), for example using ravel().\n",
      "  rfr.fit(X_train,y_train_scaled)\n"
     ]
    },
    {
     "name": "stdout",
     "output_type": "stream",
     "text": [
      "0.025874807582668188\n"
     ]
    }
   ],
   "source": [
    "from sklearn.ensemble import RandomForestRegressor\n",
    "rfr=RandomForestRegressor()\n",
    "rfr.fit(X_train,y_train_scaled)\n",
    "pred=rfr.predict(X_test)\n",
    "print(mean_squared_error(y_test_scaled,pred))"
   ]
  },
  {
   "cell_type": "code",
   "execution_count": 217,
   "metadata": {},
   "outputs": [
    {
     "name": "stderr",
     "output_type": "stream",
     "text": [
      "E:\\Python\\lib\\site-packages\\sklearn\\utils\\validation.py:63: DataConversionWarning: A column-vector y was passed when a 1d array was expected. Please change the shape of y to (n_samples, ), for example using ravel().\n",
      "  return f(*args, **kwargs)\n"
     ]
    },
    {
     "name": "stdout",
     "output_type": "stream",
     "text": [
      "0.024921373613572818\n"
     ]
    }
   ],
   "source": [
    "from sklearn.ensemble import GradientBoostingRegressor\n",
    "gbr=GradientBoostingRegressor()\n",
    "gbr.fit(X_train,y_train_scaled)\n",
    "pred=gbr.predict(X_test)\n",
    "print(mean_squared_error(y_test_scaled,pred))"
   ]
  },
  {
   "cell_type": "code",
   "execution_count": null,
   "metadata": {},
   "outputs": [],
   "source": [
    "# Since mse value of GradientBoostingRegressor is less we will select it as our final model."
   ]
  }
 ],
 "metadata": {
  "kernelspec": {
   "display_name": "Python 3",
   "language": "python",
   "name": "python3"
  },
  "language_info": {
   "codemirror_mode": {
    "name": "ipython",
    "version": 3
   },
   "file_extension": ".py",
   "mimetype": "text/x-python",
   "name": "python",
   "nbconvert_exporter": "python",
   "pygments_lexer": "ipython3",
   "version": "3.8.8"
  }
 },
 "nbformat": 4,
 "nbformat_minor": 2
}
